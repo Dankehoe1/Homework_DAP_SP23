{
 "cells": [
  {
   "cell_type": "code",
   "execution_count": 1,
   "id": "43fd5b99",
   "metadata": {},
   "outputs": [],
   "source": [
    "import pandas as pd\n",
    "import numpy as np\n",
    "import scipy.stats as stats\n",
    "import statsmodels.formula.api as sm"
   ]
  },
  {
   "cell_type": "code",
   "execution_count": 2,
   "id": "ad71ca51",
   "metadata": {},
   "outputs": [],
   "source": [
    "from matplotlib import pyplot as plt\n",
    "import seaborn as sns"
   ]
  },
  {
   "cell_type": "code",
   "execution_count": 3,
   "id": "da54191e",
   "metadata": {},
   "outputs": [],
   "source": [
    "ibm = pd.read_excel(\"IBM Employee Attrition.xlsx\")"
   ]
  },
  {
   "cell_type": "code",
   "execution_count": 4,
   "id": "7cbb1c35",
   "metadata": {},
   "outputs": [],
   "source": [
    "pd.set_option('display.max_columns', None) ## show all the columns in dataset\n",
    "pd.set_option('display.max_rows', None) ## show all rows in dataset"
   ]
  },
  {
   "cell_type": "code",
   "execution_count": 5,
   "id": "ee06ad0e",
   "metadata": {},
   "outputs": [
    {
     "data": {
      "text/html": [
       "<div>\n",
       "<style scoped>\n",
       "    .dataframe tbody tr th:only-of-type {\n",
       "        vertical-align: middle;\n",
       "    }\n",
       "\n",
       "    .dataframe tbody tr th {\n",
       "        vertical-align: top;\n",
       "    }\n",
       "\n",
       "    .dataframe thead th {\n",
       "        text-align: right;\n",
       "    }\n",
       "</style>\n",
       "<table border=\"1\" class=\"dataframe\">\n",
       "  <thead>\n",
       "    <tr style=\"text-align: right;\">\n",
       "      <th></th>\n",
       "      <th>Age</th>\n",
       "      <th>Attrition</th>\n",
       "      <th>BusinessTravel</th>\n",
       "      <th>Department</th>\n",
       "      <th>DistanceFromHome</th>\n",
       "      <th>Education</th>\n",
       "      <th>EducationField</th>\n",
       "      <th>EmployeeNumber</th>\n",
       "      <th>EnvironmentSatisfaction</th>\n",
       "      <th>Gender</th>\n",
       "      <th>JobInvolvement</th>\n",
       "      <th>JobLevel</th>\n",
       "      <th>JobRole</th>\n",
       "      <th>JobSatisfaction</th>\n",
       "      <th>MaritalStatus</th>\n",
       "      <th>MonthlyIncome</th>\n",
       "      <th>NumCompaniesWorked</th>\n",
       "      <th>Over18</th>\n",
       "      <th>OverTime</th>\n",
       "      <th>PercentSalaryHike</th>\n",
       "      <th>PerformanceRating</th>\n",
       "      <th>RelationshipSatisfaction</th>\n",
       "      <th>StockOptionLevel</th>\n",
       "      <th>TotalWorkingYears</th>\n",
       "      <th>TrainingTimesLastYear</th>\n",
       "      <th>WorkLifeBalance</th>\n",
       "      <th>YearsAtCompany</th>\n",
       "      <th>YearsInCurrentRole</th>\n",
       "      <th>YearsSinceLastPromotion</th>\n",
       "      <th>YearsWithCurrManager</th>\n",
       "    </tr>\n",
       "  </thead>\n",
       "  <tbody>\n",
       "    <tr>\n",
       "      <th>0</th>\n",
       "      <td>41</td>\n",
       "      <td>Yes</td>\n",
       "      <td>Travel_Rarely</td>\n",
       "      <td>Sales</td>\n",
       "      <td>1</td>\n",
       "      <td>2</td>\n",
       "      <td>Life Sciences</td>\n",
       "      <td>1</td>\n",
       "      <td>2</td>\n",
       "      <td>Female</td>\n",
       "      <td>3</td>\n",
       "      <td>2</td>\n",
       "      <td>Sales Executive</td>\n",
       "      <td>4</td>\n",
       "      <td>Single</td>\n",
       "      <td>5993</td>\n",
       "      <td>8</td>\n",
       "      <td>Y</td>\n",
       "      <td>Yes</td>\n",
       "      <td>11</td>\n",
       "      <td>3</td>\n",
       "      <td>1</td>\n",
       "      <td>0</td>\n",
       "      <td>8</td>\n",
       "      <td>0</td>\n",
       "      <td>1</td>\n",
       "      <td>6</td>\n",
       "      <td>4</td>\n",
       "      <td>0</td>\n",
       "      <td>5</td>\n",
       "    </tr>\n",
       "    <tr>\n",
       "      <th>1</th>\n",
       "      <td>49</td>\n",
       "      <td>No</td>\n",
       "      <td>Travel_Frequently</td>\n",
       "      <td>Research &amp; Development</td>\n",
       "      <td>8</td>\n",
       "      <td>1</td>\n",
       "      <td>Life Sciences</td>\n",
       "      <td>2</td>\n",
       "      <td>3</td>\n",
       "      <td>Male</td>\n",
       "      <td>2</td>\n",
       "      <td>2</td>\n",
       "      <td>Research Scientist</td>\n",
       "      <td>2</td>\n",
       "      <td>Married</td>\n",
       "      <td>5130</td>\n",
       "      <td>1</td>\n",
       "      <td>Y</td>\n",
       "      <td>No</td>\n",
       "      <td>23</td>\n",
       "      <td>4</td>\n",
       "      <td>4</td>\n",
       "      <td>1</td>\n",
       "      <td>10</td>\n",
       "      <td>3</td>\n",
       "      <td>3</td>\n",
       "      <td>10</td>\n",
       "      <td>7</td>\n",
       "      <td>1</td>\n",
       "      <td>7</td>\n",
       "    </tr>\n",
       "    <tr>\n",
       "      <th>2</th>\n",
       "      <td>37</td>\n",
       "      <td>Yes</td>\n",
       "      <td>Travel_Rarely</td>\n",
       "      <td>Research &amp; Development</td>\n",
       "      <td>2</td>\n",
       "      <td>2</td>\n",
       "      <td>Other</td>\n",
       "      <td>4</td>\n",
       "      <td>4</td>\n",
       "      <td>Male</td>\n",
       "      <td>2</td>\n",
       "      <td>1</td>\n",
       "      <td>Laboratory Technician</td>\n",
       "      <td>3</td>\n",
       "      <td>Single</td>\n",
       "      <td>2090</td>\n",
       "      <td>6</td>\n",
       "      <td>Y</td>\n",
       "      <td>Yes</td>\n",
       "      <td>15</td>\n",
       "      <td>3</td>\n",
       "      <td>2</td>\n",
       "      <td>0</td>\n",
       "      <td>7</td>\n",
       "      <td>3</td>\n",
       "      <td>3</td>\n",
       "      <td>0</td>\n",
       "      <td>0</td>\n",
       "      <td>0</td>\n",
       "      <td>0</td>\n",
       "    </tr>\n",
       "    <tr>\n",
       "      <th>3</th>\n",
       "      <td>33</td>\n",
       "      <td>No</td>\n",
       "      <td>Travel_Frequently</td>\n",
       "      <td>Research &amp; Development</td>\n",
       "      <td>3</td>\n",
       "      <td>4</td>\n",
       "      <td>Life Sciences</td>\n",
       "      <td>5</td>\n",
       "      <td>4</td>\n",
       "      <td>Female</td>\n",
       "      <td>3</td>\n",
       "      <td>1</td>\n",
       "      <td>Research Scientist</td>\n",
       "      <td>3</td>\n",
       "      <td>Married</td>\n",
       "      <td>2909</td>\n",
       "      <td>1</td>\n",
       "      <td>Y</td>\n",
       "      <td>Yes</td>\n",
       "      <td>11</td>\n",
       "      <td>3</td>\n",
       "      <td>3</td>\n",
       "      <td>0</td>\n",
       "      <td>8</td>\n",
       "      <td>3</td>\n",
       "      <td>3</td>\n",
       "      <td>8</td>\n",
       "      <td>7</td>\n",
       "      <td>3</td>\n",
       "      <td>0</td>\n",
       "    </tr>\n",
       "    <tr>\n",
       "      <th>4</th>\n",
       "      <td>27</td>\n",
       "      <td>No</td>\n",
       "      <td>Travel_Rarely</td>\n",
       "      <td>Research &amp; Development</td>\n",
       "      <td>2</td>\n",
       "      <td>1</td>\n",
       "      <td>Medical</td>\n",
       "      <td>7</td>\n",
       "      <td>1</td>\n",
       "      <td>Male</td>\n",
       "      <td>3</td>\n",
       "      <td>1</td>\n",
       "      <td>Laboratory Technician</td>\n",
       "      <td>2</td>\n",
       "      <td>Married</td>\n",
       "      <td>3468</td>\n",
       "      <td>9</td>\n",
       "      <td>Y</td>\n",
       "      <td>No</td>\n",
       "      <td>12</td>\n",
       "      <td>3</td>\n",
       "      <td>4</td>\n",
       "      <td>1</td>\n",
       "      <td>6</td>\n",
       "      <td>3</td>\n",
       "      <td>3</td>\n",
       "      <td>2</td>\n",
       "      <td>2</td>\n",
       "      <td>2</td>\n",
       "      <td>2</td>\n",
       "    </tr>\n",
       "  </tbody>\n",
       "</table>\n",
       "</div>"
      ],
      "text/plain": [
       "   Age Attrition     BusinessTravel              Department  DistanceFromHome  \\\n",
       "0   41       Yes      Travel_Rarely                   Sales                 1   \n",
       "1   49        No  Travel_Frequently  Research & Development                 8   \n",
       "2   37       Yes      Travel_Rarely  Research & Development                 2   \n",
       "3   33        No  Travel_Frequently  Research & Development                 3   \n",
       "4   27        No      Travel_Rarely  Research & Development                 2   \n",
       "\n",
       "   Education EducationField  EmployeeNumber  EnvironmentSatisfaction  Gender  \\\n",
       "0          2  Life Sciences               1                        2  Female   \n",
       "1          1  Life Sciences               2                        3    Male   \n",
       "2          2          Other               4                        4    Male   \n",
       "3          4  Life Sciences               5                        4  Female   \n",
       "4          1        Medical               7                        1    Male   \n",
       "\n",
       "   JobInvolvement  JobLevel                JobRole  JobSatisfaction  \\\n",
       "0               3         2        Sales Executive                4   \n",
       "1               2         2     Research Scientist                2   \n",
       "2               2         1  Laboratory Technician                3   \n",
       "3               3         1     Research Scientist                3   \n",
       "4               3         1  Laboratory Technician                2   \n",
       "\n",
       "  MaritalStatus  MonthlyIncome  NumCompaniesWorked Over18 OverTime  \\\n",
       "0        Single           5993                   8      Y      Yes   \n",
       "1       Married           5130                   1      Y       No   \n",
       "2        Single           2090                   6      Y      Yes   \n",
       "3       Married           2909                   1      Y      Yes   \n",
       "4       Married           3468                   9      Y       No   \n",
       "\n",
       "   PercentSalaryHike  PerformanceRating  RelationshipSatisfaction  \\\n",
       "0                 11                  3                         1   \n",
       "1                 23                  4                         4   \n",
       "2                 15                  3                         2   \n",
       "3                 11                  3                         3   \n",
       "4                 12                  3                         4   \n",
       "\n",
       "   StockOptionLevel  TotalWorkingYears  TrainingTimesLastYear  \\\n",
       "0                 0                  8                      0   \n",
       "1                 1                 10                      3   \n",
       "2                 0                  7                      3   \n",
       "3                 0                  8                      3   \n",
       "4                 1                  6                      3   \n",
       "\n",
       "   WorkLifeBalance  YearsAtCompany  YearsInCurrentRole  \\\n",
       "0                1               6                   4   \n",
       "1                3              10                   7   \n",
       "2                3               0                   0   \n",
       "3                3               8                   7   \n",
       "4                3               2                   2   \n",
       "\n",
       "   YearsSinceLastPromotion  YearsWithCurrManager  \n",
       "0                        0                     5  \n",
       "1                        1                     7  \n",
       "2                        0                     0  \n",
       "3                        3                     0  \n",
       "4                        2                     2  "
      ]
     },
     "execution_count": 5,
     "metadata": {},
     "output_type": "execute_result"
    }
   ],
   "source": [
    "ibm.head()"
   ]
  },
  {
   "cell_type": "code",
   "execution_count": 6,
   "id": "ba8c1d01",
   "metadata": {},
   "outputs": [],
   "source": [
    "ibm.drop(columns = \"EmployeeNumber\", inplace = True)"
   ]
  },
  {
   "cell_type": "code",
   "execution_count": 7,
   "id": "c5267554",
   "metadata": {},
   "outputs": [],
   "source": [
    "ibm.drop(columns = \"Over18\", inplace = True)"
   ]
  },
  {
   "cell_type": "code",
   "execution_count": 8,
   "id": "9b4c0bdd",
   "metadata": {},
   "outputs": [],
   "source": [
    "# Check for Outliers\n",
    "# change Education job satisfaction, job involvement work life balance performance rating \n",
    "# to qual\n",
    "# check for missing data \n",
    "\n",
    "\n",
    "# No monthly income outliers\n",
    "#14 manager outliers with 15+ years with manager no attrition \n",
    "# lots of outliers on years without a promotion (12+ years) handful have left \n",
    "# 13 outliers for years in current role\n",
    "# 25 outliers in years at company \n",
    "# no outliers in training last year\n",
    "# 16 outliers in years worked \n",
    "# no outliers in salary hikes\n",
    "# no outliers in age \n",
    "\n",
    "\n",
    "# 42 year difference between employees\n",
    "# 28 mile difference between distances\n",
    "# 18,990 difference between monthly incomes \n",
    "# 14 percent difference in salary hikes\n",
    "# 38 year difference in total working years  \n",
    "\n",
    "# higher attrition in lower ages and lower job level\n",
    "# higher attrition at 0 stock options but 2nd plces is 3 stock options \n",
    "# higher attrition for those who can work overtime \n",
    "# higher attrtion for those who have fewer total working years\n",
    "# higher attrition for less years at company however highest is 32 years at company\n",
    "\n",
    "\n",
    "# CONCLUSIONS: Employees who start to dedicate more time and years to the job should \n",
    "# have better compansations through stock options or not having to possibly work overtime \n"
   ]
  },
  {
   "cell_type": "code",
   "execution_count": 9,
   "id": "2be9e2c6",
   "metadata": {},
   "outputs": [
    {
     "data": {
      "text/plain": [
       "Age                         0\n",
       "Attrition                   0\n",
       "BusinessTravel              0\n",
       "Department                  0\n",
       "DistanceFromHome            0\n",
       "Education                   0\n",
       "EducationField              0\n",
       "EnvironmentSatisfaction     0\n",
       "Gender                      0\n",
       "JobInvolvement              0\n",
       "JobLevel                    0\n",
       "JobRole                     0\n",
       "JobSatisfaction             0\n",
       "MaritalStatus               0\n",
       "MonthlyIncome               0\n",
       "NumCompaniesWorked          0\n",
       "OverTime                    0\n",
       "PercentSalaryHike           0\n",
       "PerformanceRating           0\n",
       "RelationshipSatisfaction    0\n",
       "StockOptionLevel            0\n",
       "TotalWorkingYears           0\n",
       "TrainingTimesLastYear       0\n",
       "WorkLifeBalance             0\n",
       "YearsAtCompany              0\n",
       "YearsInCurrentRole          0\n",
       "YearsSinceLastPromotion     0\n",
       "YearsWithCurrManager        0\n",
       "dtype: int64"
      ]
     },
     "execution_count": 9,
     "metadata": {},
     "output_type": "execute_result"
    }
   ],
   "source": [
    "ibm.isnull().sum()"
   ]
  },
  {
   "cell_type": "code",
   "execution_count": 10,
   "id": "1d85c460",
   "metadata": {},
   "outputs": [],
   "source": [
    "ibm[\"Education\"].replace([1,2,3,4,5], [\"Below College\", \"College\",\"Bachelor\",\"Masters\",\"Doctoral\"], inplace = True)"
   ]
  },
  {
   "cell_type": "code",
   "execution_count": 11,
   "id": "9b180dec",
   "metadata": {},
   "outputs": [],
   "source": [
    "ibm[\"JobSatisfaction\"].replace([1,2,3,4], [\"Low\", \"Medium\",\"High\",\"Very High\"], inplace = True)"
   ]
  },
  {
   "cell_type": "code",
   "execution_count": 12,
   "id": "014cd26f",
   "metadata": {},
   "outputs": [],
   "source": [
    "ibm[\"JobInvolvement\"].replace([1,2,3,4], [\"Low\", \"Medium\",\"High\",\"Very High\"], inplace = True)"
   ]
  },
  {
   "cell_type": "code",
   "execution_count": 13,
   "id": "f9bcd445",
   "metadata": {},
   "outputs": [],
   "source": [
    "ibm[\"WorkLifeBalance\"].replace([1,2,3,4], [\"Bad\", \"Good\",\"Better\",\"Best\"], inplace = True)"
   ]
  },
  {
   "cell_type": "code",
   "execution_count": 14,
   "id": "921de285",
   "metadata": {},
   "outputs": [],
   "source": [
    "ibm[\"PerformanceRating\"].replace([1,2,3,4], [\"Low\", \"Good\",\"Excellent\",\"Outstanding\"], inplace = True)"
   ]
  },
  {
   "cell_type": "code",
   "execution_count": 15,
   "id": "dc891e44",
   "metadata": {},
   "outputs": [],
   "source": [
    "ibm[\"RelationshipSatisfaction\"].replace([1,2,3,4], [\"Low\", \"Medium\",\"High\",\"Very High\"], inplace = True)"
   ]
  },
  {
   "cell_type": "code",
   "execution_count": 54,
   "id": "b9a8602f",
   "metadata": {},
   "outputs": [],
   "source": [
    "ibmz[\"Attrition\"].replace([\"Yes\",\"No\"], [1,0], inplace = True)\n"
   ]
  },
  {
   "cell_type": "code",
   "execution_count": 55,
   "id": "378a9b1f",
   "metadata": {},
   "outputs": [],
   "source": [
    "ibmz[\"OverTime\"].replace([\"Yes\",\"No\"], [1,0], inplace = True)"
   ]
  },
  {
   "cell_type": "code",
   "execution_count": 56,
   "id": "064b11b6",
   "metadata": {},
   "outputs": [
    {
     "data": {
      "text/plain": [
       "0    609\n",
       "1    573\n",
       "2    155\n",
       "3     82\n",
       "Name: StockOptionLevel, dtype: int64"
      ]
     },
     "execution_count": 56,
     "metadata": {},
     "output_type": "execute_result"
    }
   ],
   "source": [
    "ibmz[\"StockOptionLevel\"].value_counts()"
   ]
  },
  {
   "cell_type": "code",
   "execution_count": 19,
   "id": "2d50e281",
   "metadata": {},
   "outputs": [],
   "source": [
    "ibmz = ibm.copy()"
   ]
  },
  {
   "cell_type": "code",
   "execution_count": 20,
   "id": "7932d6a4",
   "metadata": {},
   "outputs": [],
   "source": [
    "ibmz[\"zscore_Income\"] = np.abs(stats.zscore(ibmz[\"MonthlyIncome\"]))"
   ]
  },
  {
   "cell_type": "code",
   "execution_count": 21,
   "id": "72db049c",
   "metadata": {},
   "outputs": [
    {
     "name": "stdout",
     "output_type": "stream",
     "text": [
      "Int64Index([], dtype='int64')\n"
     ]
    }
   ],
   "source": [
    "z_outliers = ibmz.loc[ibmz[\"zscore_Income\"] > 3].index\n",
    "print(z_outliers)"
   ]
  },
  {
   "cell_type": "code",
   "execution_count": 22,
   "id": "25bed229",
   "metadata": {},
   "outputs": [],
   "source": [
    "ibmz[\"zscore_Manager\"] = np.abs(stats.zscore(ibmz[\"YearsWithCurrManager\"]))"
   ]
  },
  {
   "cell_type": "code",
   "execution_count": 23,
   "id": "acbc4c40",
   "metadata": {},
   "outputs": [
    {
     "name": "stdout",
     "output_type": "stream",
     "text": [
      "Int64Index([28, 123, 153, 187, 231, 386, 561, 616, 635, 686, 875, 926, 1078,\n",
      "            1348],\n",
      "           dtype='int64')\n"
     ]
    }
   ],
   "source": [
    "z_outliersman = ibmz.loc[ibmz[\"zscore_Manager\"] > 3].index\n",
    "print(z_outliersman)"
   ]
  },
  {
   "cell_type": "code",
   "execution_count": 24,
   "id": "1229b54f",
   "metadata": {},
   "outputs": [],
   "source": [
    "ibmz.drop(z_outliersman, inplace = True)"
   ]
  },
  {
   "cell_type": "code",
   "execution_count": 25,
   "id": "8f97328f",
   "metadata": {},
   "outputs": [],
   "source": [
    "ibmz[\"zscore_Promo\"] = np.abs(stats.zscore(ibmz[\"YearsSinceLastPromotion\"]))"
   ]
  },
  {
   "cell_type": "code",
   "execution_count": 26,
   "id": "ae4c2a53",
   "metadata": {},
   "outputs": [
    {
     "name": "stdout",
     "output_type": "stream",
     "text": [
      "Int64Index([  45,   62,   64,  110,  126,  178,  218,  237,  326,  425,  427,\n",
      "             535,  584,  595,  653,  701,  752,  799,  838,  861,  914,  922,\n",
      "             937,  976, 1008, 1086, 1093, 1138, 1156, 1221, 1223, 1242, 1295,\n",
      "            1301, 1303, 1331, 1414],\n",
      "           dtype='int64')\n"
     ]
    }
   ],
   "source": [
    "z_outlierspro = ibmz.loc[ibmz[\"zscore_Promo\"] > 3].index\n",
    "print(z_outlierspro)"
   ]
  },
  {
   "cell_type": "code",
   "execution_count": 27,
   "id": "46a24e47",
   "metadata": {},
   "outputs": [],
   "source": [
    "ibmz.drop(z_outlierspro, inplace = True)"
   ]
  },
  {
   "cell_type": "code",
   "execution_count": 28,
   "id": "371e7ea7",
   "metadata": {},
   "outputs": [],
   "source": [
    "ibmz[\"zscore_Currole\"] = np.abs(stats.zscore(ibmz[\"YearsInCurrentRole\"]))"
   ]
  },
  {
   "cell_type": "code",
   "execution_count": 29,
   "id": "4aff81a8",
   "metadata": {},
   "outputs": [
    {
     "name": "stdout",
     "output_type": "stream",
     "text": [
      "Int64Index([63, 190, 281, 417, 466, 716, 746, 1024, 1150, 1327, 1351, 1430], dtype='int64')\n"
     ]
    }
   ],
   "source": [
    "z_outliersrole = ibmz.loc[ibmz[\"zscore_Currole\"] > 3].index\n",
    "print(z_outliersrole)"
   ]
  },
  {
   "cell_type": "code",
   "execution_count": 30,
   "id": "9d3909fa",
   "metadata": {},
   "outputs": [],
   "source": [
    "ibmz[\"zscore_at\"] = np.abs(stats.zscore(ibmz[\"YearsAtCompany\"]))"
   ]
  },
  {
   "cell_type": "code",
   "execution_count": 31,
   "id": "2d496f39",
   "metadata": {},
   "outputs": [
    {
     "name": "stdout",
     "output_type": "stream",
     "text": [
      "Int64Index([  18,   98,  119,  190,  244,  270,  311,  390,  411,  473,  477,\n",
      "             592,  677,  749,  913,  918,  962, 1111, 1116, 1135],\n",
      "           dtype='int64')\n"
     ]
    }
   ],
   "source": [
    "z_outliersat = ibmz.loc[ibmz[\"zscore_at\"] > 3].index\n",
    "print(z_outliersat)"
   ]
  },
  {
   "cell_type": "code",
   "execution_count": 32,
   "id": "a23a5d49",
   "metadata": {},
   "outputs": [],
   "source": [
    "ibmz[\"zscore_train\"] = np.abs(stats.zscore(ibmz[\"TrainingTimesLastYear\"]))"
   ]
  },
  {
   "cell_type": "code",
   "execution_count": 33,
   "id": "95f1b948",
   "metadata": {},
   "outputs": [
    {
     "name": "stdout",
     "output_type": "stream",
     "text": [
      "Int64Index([], dtype='int64')\n"
     ]
    }
   ],
   "source": [
    "z_outlierstrain = ibmz.loc[ibmz[\"zscore_train\"] > 3].index\n",
    "print(z_outlierstrain)"
   ]
  },
  {
   "cell_type": "code",
   "execution_count": 34,
   "id": "12443a1e",
   "metadata": {},
   "outputs": [],
   "source": [
    "ibmz[\"zscore_work\"] = np.abs(stats.zscore(ibmz[\"TotalWorkingYears\"]))"
   ]
  },
  {
   "cell_type": "code",
   "execution_count": 35,
   "id": "f179f83d",
   "metadata": {},
   "outputs": [
    {
     "name": "stdout",
     "output_type": "stream",
     "text": [
      "Int64Index([  85,   98,  190,  270,  401,  411,  445,  624,  649,  749,  890,\n",
      "             894,  956,  962, 1043, 1111, 1116, 1184, 1264, 1401],\n",
      "           dtype='int64')\n"
     ]
    }
   ],
   "source": [
    "z_outlierswork = ibmz.loc[ibmz[\"zscore_work\"] > 3].index\n",
    "print(z_outlierswork)"
   ]
  },
  {
   "cell_type": "code",
   "execution_count": 36,
   "id": "88bc62c1",
   "metadata": {},
   "outputs": [],
   "source": [
    "ibmz[\"zscore_sal\"] = np.abs(stats.zscore(ibmz[\"PercentSalaryHike\"]))"
   ]
  },
  {
   "cell_type": "code",
   "execution_count": 37,
   "id": "a9393e1f",
   "metadata": {},
   "outputs": [
    {
     "name": "stdout",
     "output_type": "stream",
     "text": [
      "Int64Index([], dtype='int64')\n"
     ]
    }
   ],
   "source": [
    "z_outlierssal = ibmz.loc[ibmz[\"zscore_sal\"] > 3].index\n",
    "print(z_outlierssal)"
   ]
  },
  {
   "cell_type": "code",
   "execution_count": 38,
   "id": "154c866a",
   "metadata": {},
   "outputs": [],
   "source": [
    "ibmz[\"zscore_workwith\"] = np.abs(stats.zscore(ibmz[\"NumCompaniesWorked\"]))"
   ]
  },
  {
   "cell_type": "code",
   "execution_count": 39,
   "id": "8f284148",
   "metadata": {},
   "outputs": [
    {
     "data": {
      "text/plain": [
       "0    609\n",
       "1    573\n",
       "2    155\n",
       "3     82\n",
       "Name: StockOptionLevel, dtype: int64"
      ]
     },
     "execution_count": 39,
     "metadata": {},
     "output_type": "execute_result"
    }
   ],
   "source": [
    "ibmz[\"StockOptionLevel\"].value_counts()"
   ]
  },
  {
   "cell_type": "code",
   "execution_count": 40,
   "id": "1b231dda",
   "metadata": {},
   "outputs": [
    {
     "name": "stdout",
     "output_type": "stream",
     "text": [
      "Int64Index([], dtype='int64')\n"
     ]
    }
   ],
   "source": [
    "z_outliersworkwith = ibmz.loc[ibmz[\"zscore_workwith\"] > 3].index\n",
    "print(z_outliersworkwith)"
   ]
  },
  {
   "cell_type": "code",
   "execution_count": 41,
   "id": "d53c3305",
   "metadata": {},
   "outputs": [],
   "source": [
    "ibmz[\"zscore_age\"] = np.abs(stats.zscore(ibmz[\"Age\"]))"
   ]
  },
  {
   "cell_type": "code",
   "execution_count": 42,
   "id": "bab5c927",
   "metadata": {},
   "outputs": [
    {
     "name": "stdout",
     "output_type": "stream",
     "text": [
      "Int64Index([], dtype='int64')\n"
     ]
    }
   ],
   "source": [
    "z_outliersage = ibmz.loc[ibmz[\"zscore_age\"] > 3].index\n",
    "print(z_outliersage)"
   ]
  },
  {
   "cell_type": "code",
   "execution_count": 43,
   "id": "cfb27881",
   "metadata": {},
   "outputs": [
    {
     "data": {
      "text/plain": [
       "42"
      ]
     },
     "execution_count": 43,
     "metadata": {},
     "output_type": "execute_result"
    }
   ],
   "source": [
    "ibmz[\"Age\"].max() - ibmz[\"Age\"].min()"
   ]
  },
  {
   "cell_type": "code",
   "execution_count": 44,
   "id": "6e8571e8",
   "metadata": {},
   "outputs": [
    {
     "data": {
      "text/plain": [
       "28"
      ]
     },
     "execution_count": 44,
     "metadata": {},
     "output_type": "execute_result"
    }
   ],
   "source": [
    "ibmz[\"DistanceFromHome\"].max() - ibmz[\"DistanceFromHome\"].min()"
   ]
  },
  {
   "cell_type": "code",
   "execution_count": 45,
   "id": "e8d1b244",
   "metadata": {},
   "outputs": [
    {
     "data": {
      "text/plain": [
       "18990"
      ]
     },
     "execution_count": 45,
     "metadata": {},
     "output_type": "execute_result"
    }
   ],
   "source": [
    "ibmz[\"MonthlyIncome\"].max() - ibmz[\"MonthlyIncome\"].min()"
   ]
  },
  {
   "cell_type": "code",
   "execution_count": 46,
   "id": "bf00549f",
   "metadata": {},
   "outputs": [
    {
     "data": {
      "text/plain": [
       "14"
      ]
     },
     "execution_count": 46,
     "metadata": {},
     "output_type": "execute_result"
    }
   ],
   "source": [
    "ibmz[\"PercentSalaryHike\"].max() - ibmz[\"PercentSalaryHike\"].min()"
   ]
  },
  {
   "cell_type": "code",
   "execution_count": 47,
   "id": "cb7299e2",
   "metadata": {},
   "outputs": [
    {
     "data": {
      "text/plain": [
       "38"
      ]
     },
     "execution_count": 47,
     "metadata": {},
     "output_type": "execute_result"
    }
   ],
   "source": [
    "ibmz[\"TotalWorkingYears\"].max() - ibmz[\"TotalWorkingYears\"].min()"
   ]
  },
  {
   "cell_type": "code",
   "execution_count": 48,
   "id": "9f6bedd0",
   "metadata": {},
   "outputs": [
    {
     "data": {
      "text/plain": [
       "37"
      ]
     },
     "execution_count": 48,
     "metadata": {},
     "output_type": "execute_result"
    }
   ],
   "source": [
    "ibmz[\"YearsAtCompany\"].max() - ibmz[\"YearsAtCompany\"].min()"
   ]
  },
  {
   "cell_type": "code",
   "execution_count": 49,
   "id": "2a120a8c",
   "metadata": {},
   "outputs": [
    {
     "data": {
      "text/plain": [
       "11"
      ]
     },
     "execution_count": 49,
     "metadata": {},
     "output_type": "execute_result"
    }
   ],
   "source": [
    "ibmz[\"YearsSinceLastPromotion\"].max() - ibmz[\"YearsSinceLastPromotion\"].min()"
   ]
  },
  {
   "cell_type": "code",
   "execution_count": 50,
   "id": "0bae4e4e",
   "metadata": {},
   "outputs": [
    {
     "data": {
      "text/plain": [
       "14"
      ]
     },
     "execution_count": 50,
     "metadata": {},
     "output_type": "execute_result"
    }
   ],
   "source": [
    "ibmz[\"YearsWithCurrManager\"].max() - ibmz[\"YearsWithCurrManager\"].min()"
   ]
  },
  {
   "cell_type": "code",
   "execution_count": 51,
   "id": "5116c441",
   "metadata": {},
   "outputs": [
    {
     "data": {
      "text/html": [
       "<div>\n",
       "<style scoped>\n",
       "    .dataframe tbody tr th:only-of-type {\n",
       "        vertical-align: middle;\n",
       "    }\n",
       "\n",
       "    .dataframe tbody tr th {\n",
       "        vertical-align: top;\n",
       "    }\n",
       "\n",
       "    .dataframe thead th {\n",
       "        text-align: right;\n",
       "    }\n",
       "</style>\n",
       "<table border=\"1\" class=\"dataframe\">\n",
       "  <thead>\n",
       "    <tr style=\"text-align: right;\">\n",
       "      <th></th>\n",
       "      <th>Age</th>\n",
       "      <th>DistanceFromHome</th>\n",
       "      <th>EnvironmentSatisfaction</th>\n",
       "      <th>JobLevel</th>\n",
       "      <th>MonthlyIncome</th>\n",
       "      <th>NumCompaniesWorked</th>\n",
       "      <th>PercentSalaryHike</th>\n",
       "      <th>StockOptionLevel</th>\n",
       "      <th>TotalWorkingYears</th>\n",
       "      <th>TrainingTimesLastYear</th>\n",
       "      <th>YearsAtCompany</th>\n",
       "      <th>YearsInCurrentRole</th>\n",
       "      <th>YearsSinceLastPromotion</th>\n",
       "      <th>YearsWithCurrManager</th>\n",
       "      <th>zscore_Income</th>\n",
       "      <th>zscore_Manager</th>\n",
       "      <th>zscore_Promo</th>\n",
       "      <th>zscore_Currole</th>\n",
       "      <th>zscore_at</th>\n",
       "      <th>zscore_train</th>\n",
       "      <th>zscore_work</th>\n",
       "      <th>zscore_sal</th>\n",
       "      <th>zscore_workwith</th>\n",
       "      <th>zscore_age</th>\n",
       "    </tr>\n",
       "  </thead>\n",
       "  <tbody>\n",
       "    <tr>\n",
       "      <th>Age</th>\n",
       "      <td>1.000000</td>\n",
       "      <td>-0.009230</td>\n",
       "      <td>0.010508</td>\n",
       "      <td>0.488778</td>\n",
       "      <td>0.478085</td>\n",
       "      <td>0.301679</td>\n",
       "      <td>0.004935</td>\n",
       "      <td>0.048131</td>\n",
       "      <td>0.663249</td>\n",
       "      <td>-0.013798</td>\n",
       "      <td>0.248594</td>\n",
       "      <td>0.167406</td>\n",
       "      <td>0.133510</td>\n",
       "      <td>0.158651</td>\n",
       "      <td>0.277976</td>\n",
       "      <td>0.066256</td>\n",
       "      <td>0.082022</td>\n",
       "      <td>0.091964</td>\n",
       "      <td>0.169913</td>\n",
       "      <td>-0.037735</td>\n",
       "      <td>0.298873</td>\n",
       "      <td>-0.018143</td>\n",
       "      <td>0.006009</td>\n",
       "      <td>0.258928</td>\n",
       "    </tr>\n",
       "    <tr>\n",
       "      <th>DistanceFromHome</th>\n",
       "      <td>-0.009230</td>\n",
       "      <td>1.000000</td>\n",
       "      <td>-0.018513</td>\n",
       "      <td>0.006476</td>\n",
       "      <td>-0.015573</td>\n",
       "      <td>-0.023914</td>\n",
       "      <td>0.041385</td>\n",
       "      <td>0.048890</td>\n",
       "      <td>-0.002865</td>\n",
       "      <td>-0.034233</td>\n",
       "      <td>0.000063</td>\n",
       "      <td>0.013539</td>\n",
       "      <td>-0.001755</td>\n",
       "      <td>-0.001945</td>\n",
       "      <td>-0.052353</td>\n",
       "      <td>0.013779</td>\n",
       "      <td>-0.001921</td>\n",
       "      <td>-0.017898</td>\n",
       "      <td>-0.025748</td>\n",
       "      <td>-0.012988</td>\n",
       "      <td>-0.046150</td>\n",
       "      <td>0.021667</td>\n",
       "      <td>-0.044260</td>\n",
       "      <td>-0.007188</td>\n",
       "    </tr>\n",
       "    <tr>\n",
       "      <th>EnvironmentSatisfaction</th>\n",
       "      <td>0.010508</td>\n",
       "      <td>-0.018513</td>\n",
       "      <td>1.000000</td>\n",
       "      <td>0.007863</td>\n",
       "      <td>-0.001095</td>\n",
       "      <td>0.010527</td>\n",
       "      <td>-0.029573</td>\n",
       "      <td>0.008361</td>\n",
       "      <td>-0.005690</td>\n",
       "      <td>-0.019357</td>\n",
       "      <td>-0.002583</td>\n",
       "      <td>0.016779</td>\n",
       "      <td>0.015215</td>\n",
       "      <td>-0.002006</td>\n",
       "      <td>0.015468</td>\n",
       "      <td>-0.028951</td>\n",
       "      <td>-0.005828</td>\n",
       "      <td>0.004431</td>\n",
       "      <td>-0.034515</td>\n",
       "      <td>-0.039396</td>\n",
       "      <td>0.030484</td>\n",
       "      <td>-0.023252</td>\n",
       "      <td>0.024212</td>\n",
       "      <td>0.009103</td>\n",
       "    </tr>\n",
       "    <tr>\n",
       "      <th>JobLevel</th>\n",
       "      <td>0.488778</td>\n",
       "      <td>0.006476</td>\n",
       "      <td>0.007863</td>\n",
       "      <td>1.000000</td>\n",
       "      <td>0.945867</td>\n",
       "      <td>0.145418</td>\n",
       "      <td>-0.022837</td>\n",
       "      <td>0.019012</td>\n",
       "      <td>0.771136</td>\n",
       "      <td>-0.010077</td>\n",
       "      <td>0.479515</td>\n",
       "      <td>0.348186</td>\n",
       "      <td>0.247727</td>\n",
       "      <td>0.340866</td>\n",
       "      <td>0.550167</td>\n",
       "      <td>0.216228</td>\n",
       "      <td>0.187622</td>\n",
       "      <td>0.235998</td>\n",
       "      <td>0.342969</td>\n",
       "      <td>-0.013270</td>\n",
       "      <td>0.413869</td>\n",
       "      <td>0.003557</td>\n",
       "      <td>-0.019515</td>\n",
       "      <td>0.116436</td>\n",
       "    </tr>\n",
       "    <tr>\n",
       "      <th>MonthlyIncome</th>\n",
       "      <td>0.478085</td>\n",
       "      <td>-0.015573</td>\n",
       "      <td>-0.001095</td>\n",
       "      <td>0.945867</td>\n",
       "      <td>1.000000</td>\n",
       "      <td>0.155443</td>\n",
       "      <td>-0.013038</td>\n",
       "      <td>0.009416</td>\n",
       "      <td>0.761695</td>\n",
       "      <td>-0.014264</td>\n",
       "      <td>0.451599</td>\n",
       "      <td>0.319655</td>\n",
       "      <td>0.230601</td>\n",
       "      <td>0.303736</td>\n",
       "      <td>0.651442</td>\n",
       "      <td>0.197617</td>\n",
       "      <td>0.165794</td>\n",
       "      <td>0.217676</td>\n",
       "      <td>0.340125</td>\n",
       "      <td>-0.008568</td>\n",
       "      <td>0.461050</td>\n",
       "      <td>0.015831</td>\n",
       "      <td>-0.014975</td>\n",
       "      <td>0.136789</td>\n",
       "    </tr>\n",
       "    <tr>\n",
       "      <th>NumCompaniesWorked</th>\n",
       "      <td>0.301679</td>\n",
       "      <td>-0.023914</td>\n",
       "      <td>0.010527</td>\n",
       "      <td>0.145418</td>\n",
       "      <td>0.155443</td>\n",
       "      <td>1.000000</td>\n",
       "      <td>-0.009414</td>\n",
       "      <td>0.037715</td>\n",
       "      <td>0.249907</td>\n",
       "      <td>-0.071732</td>\n",
       "      <td>-0.142090</td>\n",
       "      <td>-0.108921</td>\n",
       "      <td>-0.052502</td>\n",
       "      <td>-0.126995</td>\n",
       "      <td>0.046230</td>\n",
       "      <td>-0.040723</td>\n",
       "      <td>-0.044111</td>\n",
       "      <td>-0.053173</td>\n",
       "      <td>-0.043502</td>\n",
       "      <td>-0.026585</td>\n",
       "      <td>0.028794</td>\n",
       "      <td>-0.048357</td>\n",
       "      <td>0.614968</td>\n",
       "      <td>0.034036</td>\n",
       "    </tr>\n",
       "    <tr>\n",
       "      <th>PercentSalaryHike</th>\n",
       "      <td>0.004935</td>\n",
       "      <td>0.041385</td>\n",
       "      <td>-0.029573</td>\n",
       "      <td>-0.022837</td>\n",
       "      <td>-0.013038</td>\n",
       "      <td>-0.009414</td>\n",
       "      <td>1.000000</td>\n",
       "      <td>0.006192</td>\n",
       "      <td>-0.014339</td>\n",
       "      <td>-0.002323</td>\n",
       "      <td>-0.026666</td>\n",
       "      <td>-0.005794</td>\n",
       "      <td>-0.024408</td>\n",
       "      <td>-0.006635</td>\n",
       "      <td>0.009242</td>\n",
       "      <td>0.015175</td>\n",
       "      <td>-0.001267</td>\n",
       "      <td>0.017675</td>\n",
       "      <td>0.008265</td>\n",
       "      <td>-0.008357</td>\n",
       "      <td>-0.012637</td>\n",
       "      <td>0.501559</td>\n",
       "      <td>-0.005843</td>\n",
       "      <td>0.011194</td>\n",
       "    </tr>\n",
       "    <tr>\n",
       "      <th>StockOptionLevel</th>\n",
       "      <td>0.048131</td>\n",
       "      <td>0.048890</td>\n",
       "      <td>0.008361</td>\n",
       "      <td>0.019012</td>\n",
       "      <td>0.009416</td>\n",
       "      <td>0.037715</td>\n",
       "      <td>0.006192</td>\n",
       "      <td>1.000000</td>\n",
       "      <td>0.020310</td>\n",
       "      <td>0.012382</td>\n",
       "      <td>0.026333</td>\n",
       "      <td>0.061996</td>\n",
       "      <td>0.020304</td>\n",
       "      <td>0.044881</td>\n",
       "      <td>-0.025737</td>\n",
       "      <td>-0.017444</td>\n",
       "      <td>0.010546</td>\n",
       "      <td>0.033655</td>\n",
       "      <td>-0.032054</td>\n",
       "      <td>-0.012968</td>\n",
       "      <td>-0.043164</td>\n",
       "      <td>-0.004454</td>\n",
       "      <td>0.013848</td>\n",
       "      <td>-0.047633</td>\n",
       "    </tr>\n",
       "    <tr>\n",
       "      <th>TotalWorkingYears</th>\n",
       "      <td>0.663249</td>\n",
       "      <td>-0.002865</td>\n",
       "      <td>-0.005690</td>\n",
       "      <td>0.771136</td>\n",
       "      <td>0.761695</td>\n",
       "      <td>0.249907</td>\n",
       "      <td>-0.014339</td>\n",
       "      <td>0.020310</td>\n",
       "      <td>1.000000</td>\n",
       "      <td>-0.022807</td>\n",
       "      <td>0.556093</td>\n",
       "      <td>0.411426</td>\n",
       "      <td>0.277303</td>\n",
       "      <td>0.410227</td>\n",
       "      <td>0.490219</td>\n",
       "      <td>0.222541</td>\n",
       "      <td>0.202088</td>\n",
       "      <td>0.268107</td>\n",
       "      <td>0.382220</td>\n",
       "      <td>-0.030611</td>\n",
       "      <td>0.533796</td>\n",
       "      <td>0.017862</td>\n",
       "      <td>-0.017686</td>\n",
       "      <td>0.178523</td>\n",
       "    </tr>\n",
       "    <tr>\n",
       "      <th>TrainingTimesLastYear</th>\n",
       "      <td>-0.013798</td>\n",
       "      <td>-0.034233</td>\n",
       "      <td>-0.019357</td>\n",
       "      <td>-0.010077</td>\n",
       "      <td>-0.014264</td>\n",
       "      <td>-0.071732</td>\n",
       "      <td>-0.002323</td>\n",
       "      <td>0.012382</td>\n",
       "      <td>-0.022807</td>\n",
       "      <td>1.000000</td>\n",
       "      <td>0.020367</td>\n",
       "      <td>0.007672</td>\n",
       "      <td>0.028188</td>\n",
       "      <td>0.009643</td>\n",
       "      <td>0.010970</td>\n",
       "      <td>0.042252</td>\n",
       "      <td>0.025216</td>\n",
       "      <td>0.016905</td>\n",
       "      <td>0.031107</td>\n",
       "      <td>0.281227</td>\n",
       "      <td>-0.033381</td>\n",
       "      <td>0.011688</td>\n",
       "      <td>-0.066099</td>\n",
       "      <td>0.010972</td>\n",
       "    </tr>\n",
       "    <tr>\n",
       "      <th>YearsAtCompany</th>\n",
       "      <td>0.248594</td>\n",
       "      <td>0.000063</td>\n",
       "      <td>-0.002583</td>\n",
       "      <td>0.479515</td>\n",
       "      <td>0.451599</td>\n",
       "      <td>-0.142090</td>\n",
       "      <td>-0.026666</td>\n",
       "      <td>0.026333</td>\n",
       "      <td>0.556093</td>\n",
       "      <td>0.020367</td>\n",
       "      <td>1.000000</td>\n",
       "      <td>0.769576</td>\n",
       "      <td>0.500141</td>\n",
       "      <td>0.785057</td>\n",
       "      <td>0.225725</td>\n",
       "      <td>0.370871</td>\n",
       "      <td>0.356863</td>\n",
       "      <td>0.410714</td>\n",
       "      <td>0.610547</td>\n",
       "      <td>-0.020911</td>\n",
       "      <td>0.158965</td>\n",
       "      <td>0.046338</td>\n",
       "      <td>0.018487</td>\n",
       "      <td>-0.074184</td>\n",
       "    </tr>\n",
       "    <tr>\n",
       "      <th>YearsInCurrentRole</th>\n",
       "      <td>0.167406</td>\n",
       "      <td>0.013539</td>\n",
       "      <td>0.016779</td>\n",
       "      <td>0.348186</td>\n",
       "      <td>0.319655</td>\n",
       "      <td>-0.108921</td>\n",
       "      <td>-0.005794</td>\n",
       "      <td>0.061996</td>\n",
       "      <td>0.411426</td>\n",
       "      <td>0.007672</td>\n",
       "      <td>0.769576</td>\n",
       "      <td>1.000000</td>\n",
       "      <td>0.500453</td>\n",
       "      <td>0.721220</td>\n",
       "      <td>0.056590</td>\n",
       "      <td>0.265471</td>\n",
       "      <td>0.314952</td>\n",
       "      <td>0.494177</td>\n",
       "      <td>0.263599</td>\n",
       "      <td>-0.016423</td>\n",
       "      <td>-0.036473</td>\n",
       "      <td>0.048885</td>\n",
       "      <td>0.001596</td>\n",
       "      <td>-0.114101</td>\n",
       "    </tr>\n",
       "    <tr>\n",
       "      <th>YearsSinceLastPromotion</th>\n",
       "      <td>0.133510</td>\n",
       "      <td>-0.001755</td>\n",
       "      <td>0.015215</td>\n",
       "      <td>0.247727</td>\n",
       "      <td>0.230601</td>\n",
       "      <td>-0.052502</td>\n",
       "      <td>-0.024408</td>\n",
       "      <td>0.020304</td>\n",
       "      <td>0.277303</td>\n",
       "      <td>0.028188</td>\n",
       "      <td>0.500141</td>\n",
       "      <td>0.500453</td>\n",
       "      <td>1.000000</td>\n",
       "      <td>0.480431</td>\n",
       "      <td>0.090137</td>\n",
       "      <td>0.198230</td>\n",
       "      <td>0.719938</td>\n",
       "      <td>0.280203</td>\n",
       "      <td>0.229157</td>\n",
       "      <td>0.017982</td>\n",
       "      <td>0.001194</td>\n",
       "      <td>0.074859</td>\n",
       "      <td>0.031415</td>\n",
       "      <td>-0.065744</td>\n",
       "    </tr>\n",
       "    <tr>\n",
       "      <th>YearsWithCurrManager</th>\n",
       "      <td>0.158651</td>\n",
       "      <td>-0.001945</td>\n",
       "      <td>-0.002006</td>\n",
       "      <td>0.340866</td>\n",
       "      <td>0.303736</td>\n",
       "      <td>-0.126995</td>\n",
       "      <td>-0.006635</td>\n",
       "      <td>0.044881</td>\n",
       "      <td>0.410227</td>\n",
       "      <td>0.009643</td>\n",
       "      <td>0.785057</td>\n",
       "      <td>0.721220</td>\n",
       "      <td>0.480431</td>\n",
       "      <td>1.000000</td>\n",
       "      <td>0.054065</td>\n",
       "      <td>0.355706</td>\n",
       "      <td>0.317159</td>\n",
       "      <td>0.321169</td>\n",
       "      <td>0.275977</td>\n",
       "      <td>-0.010861</td>\n",
       "      <td>-0.054491</td>\n",
       "      <td>0.033534</td>\n",
       "      <td>0.010808</td>\n",
       "      <td>-0.129122</td>\n",
       "    </tr>\n",
       "    <tr>\n",
       "      <th>zscore_Income</th>\n",
       "      <td>0.277976</td>\n",
       "      <td>-0.052353</td>\n",
       "      <td>0.015468</td>\n",
       "      <td>0.550167</td>\n",
       "      <td>0.651442</td>\n",
       "      <td>0.046230</td>\n",
       "      <td>0.009242</td>\n",
       "      <td>-0.025737</td>\n",
       "      <td>0.490219</td>\n",
       "      <td>0.010970</td>\n",
       "      <td>0.225725</td>\n",
       "      <td>0.056590</td>\n",
       "      <td>0.090137</td>\n",
       "      <td>0.054065</td>\n",
       "      <td>1.000000</td>\n",
       "      <td>0.176646</td>\n",
       "      <td>0.055277</td>\n",
       "      <td>0.177094</td>\n",
       "      <td>0.374985</td>\n",
       "      <td>-0.025025</td>\n",
       "      <td>0.657259</td>\n",
       "      <td>0.040193</td>\n",
       "      <td>-0.038871</td>\n",
       "      <td>0.287729</td>\n",
       "    </tr>\n",
       "    <tr>\n",
       "      <th>zscore_Manager</th>\n",
       "      <td>0.066256</td>\n",
       "      <td>0.013779</td>\n",
       "      <td>-0.028951</td>\n",
       "      <td>0.216228</td>\n",
       "      <td>0.197617</td>\n",
       "      <td>-0.040723</td>\n",
       "      <td>0.015175</td>\n",
       "      <td>-0.017444</td>\n",
       "      <td>0.222541</td>\n",
       "      <td>0.042252</td>\n",
       "      <td>0.370871</td>\n",
       "      <td>0.265471</td>\n",
       "      <td>0.198230</td>\n",
       "      <td>0.355706</td>\n",
       "      <td>0.176646</td>\n",
       "      <td>1.000000</td>\n",
       "      <td>0.198261</td>\n",
       "      <td>0.533482</td>\n",
       "      <td>0.565204</td>\n",
       "      <td>-0.005189</td>\n",
       "      <td>0.168789</td>\n",
       "      <td>0.026379</td>\n",
       "      <td>-0.004691</td>\n",
       "      <td>-0.047397</td>\n",
       "    </tr>\n",
       "    <tr>\n",
       "      <th>zscore_Promo</th>\n",
       "      <td>0.082022</td>\n",
       "      <td>-0.001921</td>\n",
       "      <td>-0.005828</td>\n",
       "      <td>0.187622</td>\n",
       "      <td>0.165794</td>\n",
       "      <td>-0.044111</td>\n",
       "      <td>-0.001267</td>\n",
       "      <td>0.010546</td>\n",
       "      <td>0.202088</td>\n",
       "      <td>0.025216</td>\n",
       "      <td>0.356863</td>\n",
       "      <td>0.314952</td>\n",
       "      <td>0.719938</td>\n",
       "      <td>0.317159</td>\n",
       "      <td>0.055277</td>\n",
       "      <td>0.198261</td>\n",
       "      <td>1.000000</td>\n",
       "      <td>0.255213</td>\n",
       "      <td>0.182776</td>\n",
       "      <td>0.031965</td>\n",
       "      <td>0.001895</td>\n",
       "      <td>0.101069</td>\n",
       "      <td>-0.000694</td>\n",
       "      <td>-0.084907</td>\n",
       "    </tr>\n",
       "    <tr>\n",
       "      <th>zscore_Currole</th>\n",
       "      <td>0.091964</td>\n",
       "      <td>-0.017898</td>\n",
       "      <td>0.004431</td>\n",
       "      <td>0.235998</td>\n",
       "      <td>0.217676</td>\n",
       "      <td>-0.053173</td>\n",
       "      <td>0.017675</td>\n",
       "      <td>0.033655</td>\n",
       "      <td>0.268107</td>\n",
       "      <td>0.016905</td>\n",
       "      <td>0.410714</td>\n",
       "      <td>0.494177</td>\n",
       "      <td>0.280203</td>\n",
       "      <td>0.321169</td>\n",
       "      <td>0.177094</td>\n",
       "      <td>0.533482</td>\n",
       "      <td>0.255213</td>\n",
       "      <td>1.000000</td>\n",
       "      <td>0.542264</td>\n",
       "      <td>-0.002904</td>\n",
       "      <td>0.172286</td>\n",
       "      <td>0.030159</td>\n",
       "      <td>-0.035672</td>\n",
       "      <td>-0.024246</td>\n",
       "    </tr>\n",
       "    <tr>\n",
       "      <th>zscore_at</th>\n",
       "      <td>0.169913</td>\n",
       "      <td>-0.025748</td>\n",
       "      <td>-0.034515</td>\n",
       "      <td>0.342969</td>\n",
       "      <td>0.340125</td>\n",
       "      <td>-0.043502</td>\n",
       "      <td>0.008265</td>\n",
       "      <td>-0.032054</td>\n",
       "      <td>0.382220</td>\n",
       "      <td>0.031107</td>\n",
       "      <td>0.610547</td>\n",
       "      <td>0.263599</td>\n",
       "      <td>0.229157</td>\n",
       "      <td>0.275977</td>\n",
       "      <td>0.374985</td>\n",
       "      <td>0.565204</td>\n",
       "      <td>0.182776</td>\n",
       "      <td>0.542264</td>\n",
       "      <td>1.000000</td>\n",
       "      <td>-0.016008</td>\n",
       "      <td>0.451998</td>\n",
       "      <td>0.026116</td>\n",
       "      <td>0.038256</td>\n",
       "      <td>0.071142</td>\n",
       "    </tr>\n",
       "    <tr>\n",
       "      <th>zscore_train</th>\n",
       "      <td>-0.037735</td>\n",
       "      <td>-0.012988</td>\n",
       "      <td>-0.039396</td>\n",
       "      <td>-0.013270</td>\n",
       "      <td>-0.008568</td>\n",
       "      <td>-0.026585</td>\n",
       "      <td>-0.008357</td>\n",
       "      <td>-0.012968</td>\n",
       "      <td>-0.030611</td>\n",
       "      <td>0.281227</td>\n",
       "      <td>-0.020911</td>\n",
       "      <td>-0.016423</td>\n",
       "      <td>0.017982</td>\n",
       "      <td>-0.010861</td>\n",
       "      <td>-0.025025</td>\n",
       "      <td>-0.005189</td>\n",
       "      <td>0.031965</td>\n",
       "      <td>-0.002904</td>\n",
       "      <td>-0.016008</td>\n",
       "      <td>1.000000</td>\n",
       "      <td>-0.000643</td>\n",
       "      <td>0.018930</td>\n",
       "      <td>-0.008681</td>\n",
       "      <td>0.017281</td>\n",
       "    </tr>\n",
       "    <tr>\n",
       "      <th>zscore_work</th>\n",
       "      <td>0.298873</td>\n",
       "      <td>-0.046150</td>\n",
       "      <td>0.030484</td>\n",
       "      <td>0.413869</td>\n",
       "      <td>0.461050</td>\n",
       "      <td>0.028794</td>\n",
       "      <td>-0.012637</td>\n",
       "      <td>-0.043164</td>\n",
       "      <td>0.533796</td>\n",
       "      <td>-0.033381</td>\n",
       "      <td>0.158965</td>\n",
       "      <td>-0.036473</td>\n",
       "      <td>0.001194</td>\n",
       "      <td>-0.054491</td>\n",
       "      <td>0.657259</td>\n",
       "      <td>0.168789</td>\n",
       "      <td>0.001895</td>\n",
       "      <td>0.172286</td>\n",
       "      <td>0.451998</td>\n",
       "      <td>-0.000643</td>\n",
       "      <td>1.000000</td>\n",
       "      <td>0.012718</td>\n",
       "      <td>-0.012850</td>\n",
       "      <td>0.459171</td>\n",
       "    </tr>\n",
       "    <tr>\n",
       "      <th>zscore_sal</th>\n",
       "      <td>-0.018143</td>\n",
       "      <td>0.021667</td>\n",
       "      <td>-0.023252</td>\n",
       "      <td>0.003557</td>\n",
       "      <td>0.015831</td>\n",
       "      <td>-0.048357</td>\n",
       "      <td>0.501559</td>\n",
       "      <td>-0.004454</td>\n",
       "      <td>0.017862</td>\n",
       "      <td>0.011688</td>\n",
       "      <td>0.046338</td>\n",
       "      <td>0.048885</td>\n",
       "      <td>0.074859</td>\n",
       "      <td>0.033534</td>\n",
       "      <td>0.040193</td>\n",
       "      <td>0.026379</td>\n",
       "      <td>0.101069</td>\n",
       "      <td>0.030159</td>\n",
       "      <td>0.026116</td>\n",
       "      <td>0.018930</td>\n",
       "      <td>0.012718</td>\n",
       "      <td>1.000000</td>\n",
       "      <td>-0.021240</td>\n",
       "      <td>0.023453</td>\n",
       "    </tr>\n",
       "    <tr>\n",
       "      <th>zscore_workwith</th>\n",
       "      <td>0.006009</td>\n",
       "      <td>-0.044260</td>\n",
       "      <td>0.024212</td>\n",
       "      <td>-0.019515</td>\n",
       "      <td>-0.014975</td>\n",
       "      <td>0.614968</td>\n",
       "      <td>-0.005843</td>\n",
       "      <td>0.013848</td>\n",
       "      <td>-0.017686</td>\n",
       "      <td>-0.066099</td>\n",
       "      <td>0.018487</td>\n",
       "      <td>0.001596</td>\n",
       "      <td>0.031415</td>\n",
       "      <td>0.010808</td>\n",
       "      <td>-0.038871</td>\n",
       "      <td>-0.004691</td>\n",
       "      <td>-0.000694</td>\n",
       "      <td>-0.035672</td>\n",
       "      <td>0.038256</td>\n",
       "      <td>-0.008681</td>\n",
       "      <td>-0.012850</td>\n",
       "      <td>-0.021240</td>\n",
       "      <td>1.000000</td>\n",
       "      <td>-0.008836</td>\n",
       "    </tr>\n",
       "    <tr>\n",
       "      <th>zscore_age</th>\n",
       "      <td>0.258928</td>\n",
       "      <td>-0.007188</td>\n",
       "      <td>0.009103</td>\n",
       "      <td>0.116436</td>\n",
       "      <td>0.136789</td>\n",
       "      <td>0.034036</td>\n",
       "      <td>0.011194</td>\n",
       "      <td>-0.047633</td>\n",
       "      <td>0.178523</td>\n",
       "      <td>0.010972</td>\n",
       "      <td>-0.074184</td>\n",
       "      <td>-0.114101</td>\n",
       "      <td>-0.065744</td>\n",
       "      <td>-0.129122</td>\n",
       "      <td>0.287729</td>\n",
       "      <td>-0.047397</td>\n",
       "      <td>-0.084907</td>\n",
       "      <td>-0.024246</td>\n",
       "      <td>0.071142</td>\n",
       "      <td>0.017281</td>\n",
       "      <td>0.459171</td>\n",
       "      <td>0.023453</td>\n",
       "      <td>-0.008836</td>\n",
       "      <td>1.000000</td>\n",
       "    </tr>\n",
       "  </tbody>\n",
       "</table>\n",
       "</div>"
      ],
      "text/plain": [
       "                              Age  DistanceFromHome  EnvironmentSatisfaction  \\\n",
       "Age                      1.000000         -0.009230                 0.010508   \n",
       "DistanceFromHome        -0.009230          1.000000                -0.018513   \n",
       "EnvironmentSatisfaction  0.010508         -0.018513                 1.000000   \n",
       "JobLevel                 0.488778          0.006476                 0.007863   \n",
       "MonthlyIncome            0.478085         -0.015573                -0.001095   \n",
       "NumCompaniesWorked       0.301679         -0.023914                 0.010527   \n",
       "PercentSalaryHike        0.004935          0.041385                -0.029573   \n",
       "StockOptionLevel         0.048131          0.048890                 0.008361   \n",
       "TotalWorkingYears        0.663249         -0.002865                -0.005690   \n",
       "TrainingTimesLastYear   -0.013798         -0.034233                -0.019357   \n",
       "YearsAtCompany           0.248594          0.000063                -0.002583   \n",
       "YearsInCurrentRole       0.167406          0.013539                 0.016779   \n",
       "YearsSinceLastPromotion  0.133510         -0.001755                 0.015215   \n",
       "YearsWithCurrManager     0.158651         -0.001945                -0.002006   \n",
       "zscore_Income            0.277976         -0.052353                 0.015468   \n",
       "zscore_Manager           0.066256          0.013779                -0.028951   \n",
       "zscore_Promo             0.082022         -0.001921                -0.005828   \n",
       "zscore_Currole           0.091964         -0.017898                 0.004431   \n",
       "zscore_at                0.169913         -0.025748                -0.034515   \n",
       "zscore_train            -0.037735         -0.012988                -0.039396   \n",
       "zscore_work              0.298873         -0.046150                 0.030484   \n",
       "zscore_sal              -0.018143          0.021667                -0.023252   \n",
       "zscore_workwith          0.006009         -0.044260                 0.024212   \n",
       "zscore_age               0.258928         -0.007188                 0.009103   \n",
       "\n",
       "                         JobLevel  MonthlyIncome  NumCompaniesWorked  \\\n",
       "Age                      0.488778       0.478085            0.301679   \n",
       "DistanceFromHome         0.006476      -0.015573           -0.023914   \n",
       "EnvironmentSatisfaction  0.007863      -0.001095            0.010527   \n",
       "JobLevel                 1.000000       0.945867            0.145418   \n",
       "MonthlyIncome            0.945867       1.000000            0.155443   \n",
       "NumCompaniesWorked       0.145418       0.155443            1.000000   \n",
       "PercentSalaryHike       -0.022837      -0.013038           -0.009414   \n",
       "StockOptionLevel         0.019012       0.009416            0.037715   \n",
       "TotalWorkingYears        0.771136       0.761695            0.249907   \n",
       "TrainingTimesLastYear   -0.010077      -0.014264           -0.071732   \n",
       "YearsAtCompany           0.479515       0.451599           -0.142090   \n",
       "YearsInCurrentRole       0.348186       0.319655           -0.108921   \n",
       "YearsSinceLastPromotion  0.247727       0.230601           -0.052502   \n",
       "YearsWithCurrManager     0.340866       0.303736           -0.126995   \n",
       "zscore_Income            0.550167       0.651442            0.046230   \n",
       "zscore_Manager           0.216228       0.197617           -0.040723   \n",
       "zscore_Promo             0.187622       0.165794           -0.044111   \n",
       "zscore_Currole           0.235998       0.217676           -0.053173   \n",
       "zscore_at                0.342969       0.340125           -0.043502   \n",
       "zscore_train            -0.013270      -0.008568           -0.026585   \n",
       "zscore_work              0.413869       0.461050            0.028794   \n",
       "zscore_sal               0.003557       0.015831           -0.048357   \n",
       "zscore_workwith         -0.019515      -0.014975            0.614968   \n",
       "zscore_age               0.116436       0.136789            0.034036   \n",
       "\n",
       "                         PercentSalaryHike  StockOptionLevel  \\\n",
       "Age                               0.004935          0.048131   \n",
       "DistanceFromHome                  0.041385          0.048890   \n",
       "EnvironmentSatisfaction          -0.029573          0.008361   \n",
       "JobLevel                         -0.022837          0.019012   \n",
       "MonthlyIncome                    -0.013038          0.009416   \n",
       "NumCompaniesWorked               -0.009414          0.037715   \n",
       "PercentSalaryHike                 1.000000          0.006192   \n",
       "StockOptionLevel                  0.006192          1.000000   \n",
       "TotalWorkingYears                -0.014339          0.020310   \n",
       "TrainingTimesLastYear            -0.002323          0.012382   \n",
       "YearsAtCompany                   -0.026666          0.026333   \n",
       "YearsInCurrentRole               -0.005794          0.061996   \n",
       "YearsSinceLastPromotion          -0.024408          0.020304   \n",
       "YearsWithCurrManager             -0.006635          0.044881   \n",
       "zscore_Income                     0.009242         -0.025737   \n",
       "zscore_Manager                    0.015175         -0.017444   \n",
       "zscore_Promo                     -0.001267          0.010546   \n",
       "zscore_Currole                    0.017675          0.033655   \n",
       "zscore_at                         0.008265         -0.032054   \n",
       "zscore_train                     -0.008357         -0.012968   \n",
       "zscore_work                      -0.012637         -0.043164   \n",
       "zscore_sal                        0.501559         -0.004454   \n",
       "zscore_workwith                  -0.005843          0.013848   \n",
       "zscore_age                        0.011194         -0.047633   \n",
       "\n",
       "                         TotalWorkingYears  TrainingTimesLastYear  \\\n",
       "Age                               0.663249              -0.013798   \n",
       "DistanceFromHome                 -0.002865              -0.034233   \n",
       "EnvironmentSatisfaction          -0.005690              -0.019357   \n",
       "JobLevel                          0.771136              -0.010077   \n",
       "MonthlyIncome                     0.761695              -0.014264   \n",
       "NumCompaniesWorked                0.249907              -0.071732   \n",
       "PercentSalaryHike                -0.014339              -0.002323   \n",
       "StockOptionLevel                  0.020310               0.012382   \n",
       "TotalWorkingYears                 1.000000              -0.022807   \n",
       "TrainingTimesLastYear            -0.022807               1.000000   \n",
       "YearsAtCompany                    0.556093               0.020367   \n",
       "YearsInCurrentRole                0.411426               0.007672   \n",
       "YearsSinceLastPromotion           0.277303               0.028188   \n",
       "YearsWithCurrManager              0.410227               0.009643   \n",
       "zscore_Income                     0.490219               0.010970   \n",
       "zscore_Manager                    0.222541               0.042252   \n",
       "zscore_Promo                      0.202088               0.025216   \n",
       "zscore_Currole                    0.268107               0.016905   \n",
       "zscore_at                         0.382220               0.031107   \n",
       "zscore_train                     -0.030611               0.281227   \n",
       "zscore_work                       0.533796              -0.033381   \n",
       "zscore_sal                        0.017862               0.011688   \n",
       "zscore_workwith                  -0.017686              -0.066099   \n",
       "zscore_age                        0.178523               0.010972   \n",
       "\n",
       "                         YearsAtCompany  YearsInCurrentRole  \\\n",
       "Age                            0.248594            0.167406   \n",
       "DistanceFromHome               0.000063            0.013539   \n",
       "EnvironmentSatisfaction       -0.002583            0.016779   \n",
       "JobLevel                       0.479515            0.348186   \n",
       "MonthlyIncome                  0.451599            0.319655   \n",
       "NumCompaniesWorked            -0.142090           -0.108921   \n",
       "PercentSalaryHike             -0.026666           -0.005794   \n",
       "StockOptionLevel               0.026333            0.061996   \n",
       "TotalWorkingYears              0.556093            0.411426   \n",
       "TrainingTimesLastYear          0.020367            0.007672   \n",
       "YearsAtCompany                 1.000000            0.769576   \n",
       "YearsInCurrentRole             0.769576            1.000000   \n",
       "YearsSinceLastPromotion        0.500141            0.500453   \n",
       "YearsWithCurrManager           0.785057            0.721220   \n",
       "zscore_Income                  0.225725            0.056590   \n",
       "zscore_Manager                 0.370871            0.265471   \n",
       "zscore_Promo                   0.356863            0.314952   \n",
       "zscore_Currole                 0.410714            0.494177   \n",
       "zscore_at                      0.610547            0.263599   \n",
       "zscore_train                  -0.020911           -0.016423   \n",
       "zscore_work                    0.158965           -0.036473   \n",
       "zscore_sal                     0.046338            0.048885   \n",
       "zscore_workwith                0.018487            0.001596   \n",
       "zscore_age                    -0.074184           -0.114101   \n",
       "\n",
       "                         YearsSinceLastPromotion  YearsWithCurrManager  \\\n",
       "Age                                     0.133510              0.158651   \n",
       "DistanceFromHome                       -0.001755             -0.001945   \n",
       "EnvironmentSatisfaction                 0.015215             -0.002006   \n",
       "JobLevel                                0.247727              0.340866   \n",
       "MonthlyIncome                           0.230601              0.303736   \n",
       "NumCompaniesWorked                     -0.052502             -0.126995   \n",
       "PercentSalaryHike                      -0.024408             -0.006635   \n",
       "StockOptionLevel                        0.020304              0.044881   \n",
       "TotalWorkingYears                       0.277303              0.410227   \n",
       "TrainingTimesLastYear                   0.028188              0.009643   \n",
       "YearsAtCompany                          0.500141              0.785057   \n",
       "YearsInCurrentRole                      0.500453              0.721220   \n",
       "YearsSinceLastPromotion                 1.000000              0.480431   \n",
       "YearsWithCurrManager                    0.480431              1.000000   \n",
       "zscore_Income                           0.090137              0.054065   \n",
       "zscore_Manager                          0.198230              0.355706   \n",
       "zscore_Promo                            0.719938              0.317159   \n",
       "zscore_Currole                          0.280203              0.321169   \n",
       "zscore_at                               0.229157              0.275977   \n",
       "zscore_train                            0.017982             -0.010861   \n",
       "zscore_work                             0.001194             -0.054491   \n",
       "zscore_sal                              0.074859              0.033534   \n",
       "zscore_workwith                         0.031415              0.010808   \n",
       "zscore_age                             -0.065744             -0.129122   \n",
       "\n",
       "                         zscore_Income  zscore_Manager  zscore_Promo  \\\n",
       "Age                           0.277976        0.066256      0.082022   \n",
       "DistanceFromHome             -0.052353        0.013779     -0.001921   \n",
       "EnvironmentSatisfaction       0.015468       -0.028951     -0.005828   \n",
       "JobLevel                      0.550167        0.216228      0.187622   \n",
       "MonthlyIncome                 0.651442        0.197617      0.165794   \n",
       "NumCompaniesWorked            0.046230       -0.040723     -0.044111   \n",
       "PercentSalaryHike             0.009242        0.015175     -0.001267   \n",
       "StockOptionLevel             -0.025737       -0.017444      0.010546   \n",
       "TotalWorkingYears             0.490219        0.222541      0.202088   \n",
       "TrainingTimesLastYear         0.010970        0.042252      0.025216   \n",
       "YearsAtCompany                0.225725        0.370871      0.356863   \n",
       "YearsInCurrentRole            0.056590        0.265471      0.314952   \n",
       "YearsSinceLastPromotion       0.090137        0.198230      0.719938   \n",
       "YearsWithCurrManager          0.054065        0.355706      0.317159   \n",
       "zscore_Income                 1.000000        0.176646      0.055277   \n",
       "zscore_Manager                0.176646        1.000000      0.198261   \n",
       "zscore_Promo                  0.055277        0.198261      1.000000   \n",
       "zscore_Currole                0.177094        0.533482      0.255213   \n",
       "zscore_at                     0.374985        0.565204      0.182776   \n",
       "zscore_train                 -0.025025       -0.005189      0.031965   \n",
       "zscore_work                   0.657259        0.168789      0.001895   \n",
       "zscore_sal                    0.040193        0.026379      0.101069   \n",
       "zscore_workwith              -0.038871       -0.004691     -0.000694   \n",
       "zscore_age                    0.287729       -0.047397     -0.084907   \n",
       "\n",
       "                         zscore_Currole  zscore_at  zscore_train  zscore_work  \\\n",
       "Age                            0.091964   0.169913     -0.037735     0.298873   \n",
       "DistanceFromHome              -0.017898  -0.025748     -0.012988    -0.046150   \n",
       "EnvironmentSatisfaction        0.004431  -0.034515     -0.039396     0.030484   \n",
       "JobLevel                       0.235998   0.342969     -0.013270     0.413869   \n",
       "MonthlyIncome                  0.217676   0.340125     -0.008568     0.461050   \n",
       "NumCompaniesWorked            -0.053173  -0.043502     -0.026585     0.028794   \n",
       "PercentSalaryHike              0.017675   0.008265     -0.008357    -0.012637   \n",
       "StockOptionLevel               0.033655  -0.032054     -0.012968    -0.043164   \n",
       "TotalWorkingYears              0.268107   0.382220     -0.030611     0.533796   \n",
       "TrainingTimesLastYear          0.016905   0.031107      0.281227    -0.033381   \n",
       "YearsAtCompany                 0.410714   0.610547     -0.020911     0.158965   \n",
       "YearsInCurrentRole             0.494177   0.263599     -0.016423    -0.036473   \n",
       "YearsSinceLastPromotion        0.280203   0.229157      0.017982     0.001194   \n",
       "YearsWithCurrManager           0.321169   0.275977     -0.010861    -0.054491   \n",
       "zscore_Income                  0.177094   0.374985     -0.025025     0.657259   \n",
       "zscore_Manager                 0.533482   0.565204     -0.005189     0.168789   \n",
       "zscore_Promo                   0.255213   0.182776      0.031965     0.001895   \n",
       "zscore_Currole                 1.000000   0.542264     -0.002904     0.172286   \n",
       "zscore_at                      0.542264   1.000000     -0.016008     0.451998   \n",
       "zscore_train                  -0.002904  -0.016008      1.000000    -0.000643   \n",
       "zscore_work                    0.172286   0.451998     -0.000643     1.000000   \n",
       "zscore_sal                     0.030159   0.026116      0.018930     0.012718   \n",
       "zscore_workwith               -0.035672   0.038256     -0.008681    -0.012850   \n",
       "zscore_age                    -0.024246   0.071142      0.017281     0.459171   \n",
       "\n",
       "                         zscore_sal  zscore_workwith  zscore_age  \n",
       "Age                       -0.018143         0.006009    0.258928  \n",
       "DistanceFromHome           0.021667        -0.044260   -0.007188  \n",
       "EnvironmentSatisfaction   -0.023252         0.024212    0.009103  \n",
       "JobLevel                   0.003557        -0.019515    0.116436  \n",
       "MonthlyIncome              0.015831        -0.014975    0.136789  \n",
       "NumCompaniesWorked        -0.048357         0.614968    0.034036  \n",
       "PercentSalaryHike          0.501559        -0.005843    0.011194  \n",
       "StockOptionLevel          -0.004454         0.013848   -0.047633  \n",
       "TotalWorkingYears          0.017862        -0.017686    0.178523  \n",
       "TrainingTimesLastYear      0.011688        -0.066099    0.010972  \n",
       "YearsAtCompany             0.046338         0.018487   -0.074184  \n",
       "YearsInCurrentRole         0.048885         0.001596   -0.114101  \n",
       "YearsSinceLastPromotion    0.074859         0.031415   -0.065744  \n",
       "YearsWithCurrManager       0.033534         0.010808   -0.129122  \n",
       "zscore_Income              0.040193        -0.038871    0.287729  \n",
       "zscore_Manager             0.026379        -0.004691   -0.047397  \n",
       "zscore_Promo               0.101069        -0.000694   -0.084907  \n",
       "zscore_Currole             0.030159        -0.035672   -0.024246  \n",
       "zscore_at                  0.026116         0.038256    0.071142  \n",
       "zscore_train               0.018930        -0.008681    0.017281  \n",
       "zscore_work                0.012718        -0.012850    0.459171  \n",
       "zscore_sal                 1.000000        -0.021240    0.023453  \n",
       "zscore_workwith           -0.021240         1.000000   -0.008836  \n",
       "zscore_age                 0.023453        -0.008836    1.000000  "
      ]
     },
     "execution_count": 51,
     "metadata": {},
     "output_type": "execute_result"
    }
   ],
   "source": [
    "ibmz.corr()"
   ]
  },
  {
   "cell_type": "code",
   "execution_count": 57,
   "id": "c2b09f1d",
   "metadata": {},
   "outputs": [
    {
     "data": {
      "text/plain": [
       "Age\n",
       "18    0.500000\n",
       "19    0.666667\n",
       "20    0.545455\n",
       "21    0.461538\n",
       "22    0.312500\n",
       "23    0.285714\n",
       "24    0.269231\n",
       "25    0.230769\n",
       "26    0.307692\n",
       "27    0.062500\n",
       "28    0.291667\n",
       "29    0.264706\n",
       "30    0.150000\n",
       "31    0.260870\n",
       "32    0.180328\n",
       "33    0.206897\n",
       "34    0.116883\n",
       "35    0.129870\n",
       "36    0.074627\n",
       "37    0.122449\n",
       "38    0.034483\n",
       "39    0.150000\n",
       "40    0.092593\n",
       "41    0.138889\n",
       "42    0.024390\n",
       "43    0.064516\n",
       "44    0.206897\n",
       "45    0.052632\n",
       "46    0.129032\n",
       "47    0.095238\n",
       "48    0.111111\n",
       "49    0.083333\n",
       "50    0.200000\n",
       "51    0.125000\n",
       "52    0.187500\n",
       "53    0.111111\n",
       "54    0.000000\n",
       "55    0.150000\n",
       "56    0.230769\n",
       "57    0.000000\n",
       "58    0.272727\n",
       "59    0.000000\n",
       "60    0.000000\n",
       "Name: Attrition, dtype: float64"
      ]
     },
     "execution_count": 57,
     "metadata": {},
     "output_type": "execute_result"
    }
   ],
   "source": [
    "ibmz[\"Attrition\"].groupby(ibmz[\"Age\"]).mean()"
   ]
  },
  {
   "cell_type": "code",
   "execution_count": 58,
   "id": "a568551f",
   "metadata": {},
   "outputs": [
    {
     "data": {
      "text/plain": [
       "JobLevel\n",
       "1    0.262963\n",
       "2    0.097744\n",
       "3    0.152709\n",
       "4    0.034091\n",
       "5    0.053571\n",
       "Name: Attrition, dtype: float64"
      ]
     },
     "execution_count": 58,
     "metadata": {},
     "output_type": "execute_result"
    }
   ],
   "source": [
    "ibmz[\"Attrition\"].groupby(ibmz[\"JobLevel\"]).mean()"
   ]
  },
  {
   "cell_type": "code",
   "execution_count": 59,
   "id": "7f0d8a2c",
   "metadata": {},
   "outputs": [
    {
     "data": {
      "text/plain": [
       "StockOptionLevel\n",
       "0    0.244663\n",
       "1    0.095986\n",
       "2    0.077419\n",
       "3    0.182927\n",
       "Name: Attrition, dtype: float64"
      ]
     },
     "execution_count": 59,
     "metadata": {},
     "output_type": "execute_result"
    }
   ],
   "source": [
    "ibmz[\"Attrition\"].groupby(ibmz[\"StockOptionLevel\"]).mean()"
   ]
  },
  {
   "cell_type": "code",
   "execution_count": 60,
   "id": "d2fafaf6",
   "metadata": {},
   "outputs": [
    {
     "data": {
      "text/plain": [
       "OverTime\n",
       "0    0.104228\n",
       "1    0.310945\n",
       "Name: Attrition, dtype: float64"
      ]
     },
     "execution_count": 60,
     "metadata": {},
     "output_type": "execute_result"
    }
   ],
   "source": [
    "ibmz[\"Attrition\"].groupby(ibmz[\"OverTime\"]).mean()"
   ]
  },
  {
   "cell_type": "code",
   "execution_count": 61,
   "id": "1f6f38b5",
   "metadata": {},
   "outputs": [
    {
     "data": {
      "text/plain": [
       "TotalWorkingYears\n",
       "0     0.454545\n",
       "1     0.493827\n",
       "2     0.290323\n",
       "3     0.214286\n",
       "4     0.190476\n",
       "5     0.181818\n",
       "6     0.176000\n",
       "7     0.222222\n",
       "8     0.155340\n",
       "9     0.104167\n",
       "10    0.123762\n",
       "11    0.194444\n",
       "12    0.104167\n",
       "13    0.083333\n",
       "14    0.129032\n",
       "15    0.125000\n",
       "16    0.081081\n",
       "17    0.096774\n",
       "18    0.125000\n",
       "19    0.136364\n",
       "20    0.074074\n",
       "21    0.032258\n",
       "22    0.062500\n",
       "23    0.071429\n",
       "24    0.230769\n",
       "25    0.000000\n",
       "26    0.076923\n",
       "27    0.000000\n",
       "28    0.090909\n",
       "29    0.000000\n",
       "30    0.000000\n",
       "31    0.125000\n",
       "32    0.000000\n",
       "33    0.200000\n",
       "34    0.333333\n",
       "35    0.000000\n",
       "36    0.000000\n",
       "37    0.000000\n",
       "38    0.000000\n",
       "Name: Attrition, dtype: float64"
      ]
     },
     "execution_count": 61,
     "metadata": {},
     "output_type": "execute_result"
    }
   ],
   "source": [
    "ibmz[\"Attrition\"].groupby(ibmz[\"TotalWorkingYears\"]).mean()"
   ]
  },
  {
   "cell_type": "code",
   "execution_count": 62,
   "id": "c939ea79",
   "metadata": {},
   "outputs": [
    {
     "data": {
      "text/plain": [
       "YearsAtCompany\n",
       "0     0.363636\n",
       "1     0.345029\n",
       "2     0.212598\n",
       "3     0.156250\n",
       "4     0.172727\n",
       "5     0.107143\n",
       "6     0.118421\n",
       "7     0.122222\n",
       "8     0.112500\n",
       "9     0.097561\n",
       "10    0.150000\n",
       "11    0.062500\n",
       "12    0.000000\n",
       "13    0.086957\n",
       "14    0.111111\n",
       "15    0.050000\n",
       "16    0.090909\n",
       "17    0.000000\n",
       "18    0.111111\n",
       "19    0.142857\n",
       "20    0.047619\n",
       "21    0.000000\n",
       "22    0.000000\n",
       "24    0.333333\n",
       "25    0.000000\n",
       "26    0.000000\n",
       "29    0.000000\n",
       "31    0.000000\n",
       "32    0.500000\n",
       "33    0.333333\n",
       "36    0.000000\n",
       "37    0.000000\n",
       "Name: Attrition, dtype: float64"
      ]
     },
     "execution_count": 62,
     "metadata": {},
     "output_type": "execute_result"
    }
   ],
   "source": [
    "ibmz[\"Attrition\"].groupby(ibmz[\"YearsAtCompany\"]).mean()"
   ]
  },
  {
   "cell_type": "code",
   "execution_count": 63,
   "id": "137dabb7",
   "metadata": {},
   "outputs": [
    {
     "data": {
      "text/plain": [
       "YearsInCurrentRole\n",
       "0     0.299180\n",
       "1     0.192982\n",
       "2     0.182796\n",
       "3     0.119403\n",
       "4     0.144231\n",
       "5     0.000000\n",
       "6     0.068966\n",
       "7     0.144186\n",
       "8     0.081395\n",
       "9     0.083333\n",
       "10    0.038462\n",
       "11    0.000000\n",
       "12    0.111111\n",
       "13    0.000000\n",
       "14    0.142857\n",
       "15    0.000000\n",
       "16    0.000000\n",
       "17    0.000000\n",
       "18    0.000000\n",
       "Name: Attrition, dtype: float64"
      ]
     },
     "execution_count": 63,
     "metadata": {},
     "output_type": "execute_result"
    }
   ],
   "source": [
    "ibmz[\"Attrition\"].groupby(ibmz[\"YearsInCurrentRole\"]).mean()"
   ]
  },
  {
   "cell_type": "code",
   "execution_count": 69,
   "id": "f971ee3f",
   "metadata": {},
   "outputs": [],
   "source": [
    "ibmz.drop(columns = \"zscore_Income\", inplace = True)"
   ]
  },
  {
   "cell_type": "code",
   "execution_count": 70,
   "id": "7be7831e",
   "metadata": {},
   "outputs": [],
   "source": [
    "ibmz.drop(columns = \"zscore_Manager\", inplace = True)"
   ]
  },
  {
   "cell_type": "code",
   "execution_count": 71,
   "id": "1310b052",
   "metadata": {},
   "outputs": [],
   "source": [
    "ibmz.drop(columns = \"zscore_Currole\", inplace = True)"
   ]
  },
  {
   "cell_type": "code",
   "execution_count": 72,
   "id": "eb838f08",
   "metadata": {},
   "outputs": [],
   "source": [
    "ibmz.drop(columns = \"zscore_Promo\", inplace = True)"
   ]
  },
  {
   "cell_type": "code",
   "execution_count": 73,
   "id": "470b4f58",
   "metadata": {},
   "outputs": [],
   "source": [
    "ibmz.drop(columns = \"zscore_at\", inplace = True)"
   ]
  },
  {
   "cell_type": "code",
   "execution_count": 74,
   "id": "6215f0b7",
   "metadata": {},
   "outputs": [],
   "source": [
    "ibmz.drop(columns = \"zscore_train\", inplace = True)"
   ]
  },
  {
   "cell_type": "code",
   "execution_count": 75,
   "id": "d3d64b63",
   "metadata": {},
   "outputs": [],
   "source": [
    "ibmz.drop(columns = \"zscore_work\", inplace = True)"
   ]
  },
  {
   "cell_type": "code",
   "execution_count": 76,
   "id": "94775b83",
   "metadata": {},
   "outputs": [],
   "source": [
    "ibmz.drop(columns = \"zscore_sal\", inplace = True)"
   ]
  },
  {
   "cell_type": "code",
   "execution_count": 77,
   "id": "42a81a56",
   "metadata": {},
   "outputs": [],
   "source": [
    "ibmz.drop(columns = \"zscore_workwith\", inplace = True)"
   ]
  },
  {
   "cell_type": "code",
   "execution_count": 78,
   "id": "d5c56f55",
   "metadata": {},
   "outputs": [],
   "source": [
    "ibmz.drop(columns = \"zscore_age\", inplace = True)"
   ]
  },
  {
   "cell_type": "code",
   "execution_count": 79,
   "id": "57dea5f4",
   "metadata": {},
   "outputs": [
    {
     "data": {
      "text/html": [
       "<table class=\"simpletable\">\n",
       "<caption>OLS Regression Results</caption>\n",
       "<tr>\n",
       "  <th>Dep. Variable:</th>        <td>Attrition</td>    <th>  R-squared:         </th> <td>   0.120</td>\n",
       "</tr>\n",
       "<tr>\n",
       "  <th>Model:</th>                   <td>OLS</td>       <th>  Adj. R-squared:    </th> <td>   0.117</td>\n",
       "</tr>\n",
       "<tr>\n",
       "  <th>Method:</th>             <td>Least Squares</td>  <th>  F-statistic:       </th> <td>   48.00</td>\n",
       "</tr>\n",
       "<tr>\n",
       "  <th>Date:</th>             <td>Thu, 04 May 2023</td> <th>  Prob (F-statistic):</th> <td>6.88e-38</td>\n",
       "</tr>\n",
       "<tr>\n",
       "  <th>Time:</th>                 <td>21:25:42</td>     <th>  Log-Likelihood:    </th> <td> -509.12</td>\n",
       "</tr>\n",
       "<tr>\n",
       "  <th>No. Observations:</th>      <td>  1419</td>      <th>  AIC:               </th> <td>   1028.</td>\n",
       "</tr>\n",
       "<tr>\n",
       "  <th>Df Residuals:</th>          <td>  1414</td>      <th>  BIC:               </th> <td>   1055.</td>\n",
       "</tr>\n",
       "<tr>\n",
       "  <th>Df Model:</th>              <td>     4</td>      <th>                     </th>     <td> </td>   \n",
       "</tr>\n",
       "<tr>\n",
       "  <th>Covariance Type:</th>      <td>nonrobust</td>    <th>                     </th>     <td> </td>   \n",
       "</tr>\n",
       "</table>\n",
       "<table class=\"simpletable\">\n",
       "<tr>\n",
       "          <td></td>            <th>coef</th>     <th>std err</th>      <th>t</th>      <th>P>|t|</th>  <th>[0.025</th>    <th>0.975]</th>  \n",
       "</tr>\n",
       "<tr>\n",
       "  <th>Intercept</th>        <td>    0.3990</td> <td>    0.039</td> <td>   10.139</td> <td> 0.000</td> <td>    0.322</td> <td>    0.476</td>\n",
       "</tr>\n",
       "<tr>\n",
       "  <th>Age</th>              <td>   -0.0056</td> <td>    0.001</td> <td>   -5.279</td> <td> 0.000</td> <td>   -0.008</td> <td>   -0.003</td>\n",
       "</tr>\n",
       "<tr>\n",
       "  <th>OverTime</th>         <td>    0.2081</td> <td>    0.020</td> <td>   10.171</td> <td> 0.000</td> <td>    0.168</td> <td>    0.248</td>\n",
       "</tr>\n",
       "<tr>\n",
       "  <th>StockOptionLevel</th> <td>   -0.0538</td> <td>    0.011</td> <td>   -4.979</td> <td> 0.000</td> <td>   -0.075</td> <td>   -0.033</td>\n",
       "</tr>\n",
       "<tr>\n",
       "  <th>YearsAtCompany</th>   <td>   -0.0075</td> <td>    0.002</td> <td>   -4.262</td> <td> 0.000</td> <td>   -0.011</td> <td>   -0.004</td>\n",
       "</tr>\n",
       "</table>\n",
       "<table class=\"simpletable\">\n",
       "<tr>\n",
       "  <th>Omnibus:</th>       <td>355.857</td> <th>  Durbin-Watson:     </th> <td>   1.912</td> \n",
       "</tr>\n",
       "<tr>\n",
       "  <th>Prob(Omnibus):</th> <td> 0.000</td>  <th>  Jarque-Bera (JB):  </th> <td> 672.769</td> \n",
       "</tr>\n",
       "<tr>\n",
       "  <th>Skew:</th>          <td> 1.559</td>  <th>  Prob(JB):          </th> <td>8.13e-147</td>\n",
       "</tr>\n",
       "<tr>\n",
       "  <th>Kurtosis:</th>      <td> 4.287</td>  <th>  Cond. No.          </th> <td>    164.</td> \n",
       "</tr>\n",
       "</table><br/><br/>Notes:<br/>[1] Standard Errors assume that the covariance matrix of the errors is correctly specified."
      ],
      "text/plain": [
       "<class 'statsmodels.iolib.summary.Summary'>\n",
       "\"\"\"\n",
       "                            OLS Regression Results                            \n",
       "==============================================================================\n",
       "Dep. Variable:              Attrition   R-squared:                       0.120\n",
       "Model:                            OLS   Adj. R-squared:                  0.117\n",
       "Method:                 Least Squares   F-statistic:                     48.00\n",
       "Date:                Thu, 04 May 2023   Prob (F-statistic):           6.88e-38\n",
       "Time:                        21:25:42   Log-Likelihood:                -509.12\n",
       "No. Observations:                1419   AIC:                             1028.\n",
       "Df Residuals:                    1414   BIC:                             1055.\n",
       "Df Model:                           4                                         \n",
       "Covariance Type:            nonrobust                                         \n",
       "====================================================================================\n",
       "                       coef    std err          t      P>|t|      [0.025      0.975]\n",
       "------------------------------------------------------------------------------------\n",
       "Intercept            0.3990      0.039     10.139      0.000       0.322       0.476\n",
       "Age                 -0.0056      0.001     -5.279      0.000      -0.008      -0.003\n",
       "OverTime             0.2081      0.020     10.171      0.000       0.168       0.248\n",
       "StockOptionLevel    -0.0538      0.011     -4.979      0.000      -0.075      -0.033\n",
       "YearsAtCompany      -0.0075      0.002     -4.262      0.000      -0.011      -0.004\n",
       "==============================================================================\n",
       "Omnibus:                      355.857   Durbin-Watson:                   1.912\n",
       "Prob(Omnibus):                  0.000   Jarque-Bera (JB):              672.769\n",
       "Skew:                           1.559   Prob(JB):                    8.13e-147\n",
       "Kurtosis:                       4.287   Cond. No.                         164.\n",
       "==============================================================================\n",
       "\n",
       "Notes:\n",
       "[1] Standard Errors assume that the covariance matrix of the errors is correctly specified.\n",
       "\"\"\""
      ]
     },
     "execution_count": 79,
     "metadata": {},
     "output_type": "execute_result"
    }
   ],
   "source": [
    "result = sm.ols('Attrition ~ Age +  OverTime + StockOptionLevel + YearsAtCompany', data = ibmz).fit()\n",
    "result.summary()"
   ]
  },
  {
   "cell_type": "code",
   "execution_count": 117,
   "id": "e8a0eb12",
   "metadata": {},
   "outputs": [
    {
     "data": {
      "text/plain": [
       "0    0.092169\n",
       "dtype: float64"
      ]
     },
     "execution_count": 117,
     "metadata": {},
     "output_type": "execute_result"
    }
   ],
   "source": [
    "result.predict({\n",
    "    'Age': 29, \n",
    "    'YearsAtCompany': 5, \n",
    "    'OverTime': 0, \n",
    "    'StockOptionLevel': 2})"
   ]
  },
  {
   "cell_type": "code",
   "execution_count": 118,
   "id": "37531ed1",
   "metadata": {},
   "outputs": [
    {
     "data": {
      "text/plain": [
       "0    0.407945\n",
       "dtype: float64"
      ]
     },
     "execution_count": 118,
     "metadata": {},
     "output_type": "execute_result"
    }
   ],
   "source": [
    "result.predict({\n",
    "    'Age': 29, \n",
    "    'YearsAtCompany': 5, \n",
    "    'OverTime': 1, \n",
    "    'StockOptionLevel': 0})"
   ]
  },
  {
   "cell_type": "code",
   "execution_count": 119,
   "id": "cf586d58",
   "metadata": {},
   "outputs": [
    {
     "data": {
      "text/plain": [
       "0   -0.005731\n",
       "dtype: float64"
      ]
     },
     "execution_count": 119,
     "metadata": {},
     "output_type": "execute_result"
    }
   ],
   "source": [
    "result.predict({\n",
    "    'Age': 40, \n",
    "    'YearsAtCompany': 17, \n",
    "    'OverTime': 0, \n",
    "    'StockOptionLevel': 1})"
   ]
  },
  {
   "cell_type": "code",
   "execution_count": 120,
   "id": "a4e37018",
   "metadata": {},
   "outputs": [
    {
     "data": {
      "text/plain": [
       "0    0.202369\n",
       "dtype: float64"
      ]
     },
     "execution_count": 120,
     "metadata": {},
     "output_type": "execute_result"
    }
   ],
   "source": [
    "result.predict({\n",
    "    'Age': 40, \n",
    "    'YearsAtCompany': 17, \n",
    "    'OverTime': 1, \n",
    "    'StockOptionLevel': 1})"
   ]
  },
  {
   "cell_type": "code",
   "execution_count": 121,
   "id": "6cf8086c",
   "metadata": {},
   "outputs": [
    {
     "data": {
      "text/plain": [
       "0    0.021607\n",
       "dtype: float64"
      ]
     },
     "execution_count": 121,
     "metadata": {},
     "output_type": "execute_result"
    }
   ],
   "source": [
    "result.predict({\n",
    "    'Age': 45, \n",
    "    'YearsAtCompany': 23, \n",
    "    'OverTime': 1, \n",
    "    'StockOptionLevel': 3})"
   ]
  },
  {
   "cell_type": "code",
   "execution_count": 122,
   "id": "9e46bcaa",
   "metadata": {},
   "outputs": [
    {
     "data": {
      "text/plain": [
       "0   -0.186493\n",
       "dtype: float64"
      ]
     },
     "execution_count": 122,
     "metadata": {},
     "output_type": "execute_result"
    }
   ],
   "source": [
    "result.predict({\n",
    "    'Age': 45, \n",
    "    'YearsAtCompany': 23, \n",
    "    'OverTime': 0, \n",
    "    'StockOptionLevel': 3})"
   ]
  },
  {
   "cell_type": "code",
   "execution_count": null,
   "id": "7b98c74a",
   "metadata": {},
   "outputs": [],
   "source": []
  },
  {
   "cell_type": "code",
   "execution_count": 80,
   "id": "a294c6d8",
   "metadata": {},
   "outputs": [
    {
     "data": {
      "text/plain": [
       "<AxesSubplot:xlabel='OverTime', ylabel='Attrition'>"
      ]
     },
     "execution_count": 80,
     "metadata": {},
     "output_type": "execute_result"
    },
    {
     "data": {
      "image/png": "[encoded data removed]",
      "text/plain": [
       "<Figure size 640x480 with 1 Axes>"
      ]
     },
     "metadata": {},
     "output_type": "display_data"
    }
   ],
   "source": [
    "sns.barplot(data = ibmz, x = \"OverTime\", y = \"Attrition\", ci = None)"
   ]
  },
  {
   "cell_type": "code",
   "execution_count": 112,
   "id": "3acefe87",
   "metadata": {},
   "outputs": [
    {
     "data": {
      "text/plain": [
       "<Figure size 4500x600 with 0 Axes>"
      ]
     },
     "execution_count": 112,
     "metadata": {},
     "output_type": "execute_result"
    },
    {
     "data": {
      "image/png": "[encoded data removed]",
      "text/plain": [
       "<Figure size 640x480 with 1 Axes>"
      ]
     },
     "metadata": {},
     "output_type": "display_data"
    },
    {
     "data": {
      "text/plain": [
       "<Figure size 4500x600 with 0 Axes>"
      ]
     },
     "metadata": {},
     "output_type": "display_data"
    }
   ],
   "source": [
    "sns.barplot(data = ibmz, x = \"YearsAtCompany\", y = \"OverTime\", ci = None)\n",
    "\n",
    "plt.title('Who Can Working Overtime Across Years at the Comapny')\n",
    "plt.grid()\n",
    "plt.figure(figsize = (45,6))\n",
    "## plt.minorticks_on() "
   ]
  },
  {
   "cell_type": "code",
   "execution_count": 114,
   "id": "74377bb7",
   "metadata": {},
   "outputs": [
    {
     "data": {
      "text/plain": [
       "Text(0.5, 1.0, 'Stock Options Across Years at Company')"
      ]
     },
     "execution_count": 114,
     "metadata": {},
     "output_type": "execute_result"
    },
    {
     "data": {
      "image/png": "[encoded data removed]",
      "text/plain": [
       "<Figure size 2000x1000 with 1 Axes>"
      ]
     },
     "metadata": {},
     "output_type": "display_data"
    }
   ],
   "source": [
    "plt.figure(figsize=(20,10))\n",
    "\n",
    "sns.countplot(data = ibmz, x = \"YearsAtCompany\", hue = \"StockOptionLevel\")\n",
    "\n",
    "plt.xticks(rotation = -45)\n",
    "plt.title('Stock Options Across Years at Company')"
   ]
  },
  {
   "cell_type": "code",
   "execution_count": null,
   "id": "3fd9ca5e",
   "metadata": {},
   "outputs": [],
   "source": []
  },
  {
   "cell_type": "code",
   "execution_count": null,
   "id": "4b56e8ae",
   "metadata": {},
   "outputs": [],
   "source": []
  },
  {
   "cell_type": "code",
   "execution_count": null,
   "id": "b058d279",
   "metadata": {},
   "outputs": [],
   "source": []
  },
  {
   "cell_type": "code",
   "execution_count": null,
   "id": "b242421e",
   "metadata": {},
   "outputs": [],
   "source": []
  },
  {
   "cell_type": "code",
   "execution_count": null,
   "id": "5093742e",
   "metadata": {},
   "outputs": [],
   "source": []
  }
 ],
 "metadata": {
  "kernelspec": {
   "display_name": "Python 3 (ipykernel)",
   "language": "python",
   "name": "python3"
  },
  "language_info": {
   "codemirror_mode": {
    "name": "ipython",
    "version": 3
   },
   "file_extension": ".py",
   "mimetype": "text/x-python",
   "name": "python",
   "nbconvert_exporter": "python",
   "pygments_lexer": "ipython3",
   "version": "3.9.13"
  }
 },
 "nbformat": 4,
 "nbformat_minor": 5
}
