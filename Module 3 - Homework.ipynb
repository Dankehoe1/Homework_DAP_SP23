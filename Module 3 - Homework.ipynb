{
 "cells": [
  {
   "cell_type": "markdown",
   "metadata": {},
   "source": [
    "### Exercise 1\n",
    "Ask a user for 5 names and place each one in to a list called <i>names</i>. Then, print <i>names</i>."
   ]
  },
  {
   "cell_type": "code",
   "execution_count": 2,
   "metadata": {},
   "outputs": [
    {
     "name": "stdout",
     "output_type": "stream",
     "text": [
      "Enter first name: Steve \n",
      "Enter second name: jeff\n",
      "Enter third name: sally \n",
      "Enter fourth namejen\n",
      "Enter fourth name: craig\n",
      "['Steve ', 'jeff', 'sally ', 'jen', 'craig']\n"
     ]
    }
   ],
   "source": [
    "name1 = input(\"Enter first name: \")\n",
    "name2 = input (\"Enter second name: \")\n",
    "name3 = input(\"Enter third name: \")\n",
    "name4 = input(\"Enter fourth name\")\n",
    "name5 = input(\"Enter fourth name: \")\n",
    "\n",
    "namez = [name1, name2, name3, name4, name5]\n",
    "print(namez)"
   ]
  },
  {
   "cell_type": "markdown",
   "metadata": {},
   "source": [
    "### Exercise 2\n",
    "Print out a randomly selected name in the names list."
   ]
  },
  {
   "cell_type": "code",
   "execution_count": 3,
   "metadata": {},
   "outputs": [
    {
     "name": "stdout",
     "output_type": "stream",
     "text": [
      "jeff\n"
     ]
    }
   ],
   "source": [
    "import random\n",
    "print(random.choice(namez))"
   ]
  },
  {
   "cell_type": "markdown",
   "metadata": {},
   "source": [
    "### Exercise 3\n",
    "\n",
    "Ask a user for a specific color and store that value into a variable. If the answer is gray, print \"You found Victor's favorite color!\". If the answer is anything besides gray, print \"[color name] is not Victor's favorite color.\""
   ]
  },
  {
   "cell_type": "code",
   "execution_count": 15,
   "metadata": {},
   "outputs": [
    {
     "name": "stdout",
     "output_type": "stream",
     "text": [
      "Name a color: gray\n",
      "You found Victor's favorite color!\n"
     ]
    }
   ],
   "source": [
    "fav_color = input(\"Name a color: \")\n",
    "\n",
    "if fav_color == \"gray\":\n",
    "    print(\"You found Victor's favorite color!\")\n",
    "else:\n",
    "     print(f\"{fav_color} is not Victor's favorite color\")"
   ]
  },
  {
   "cell_type": "markdown",
   "metadata": {},
   "source": [
    "### Exercise 4\n",
    "Ask for an exam score and store that number. If the number is greater than 100, then print out 'You cannot have an exam score higher than 100'. If the number doesn't exceeed 100 but is greater than or equal to 75, then print out 'You did great on your exam!'. Otherwise if they scored lower than 75, then print out 'You need to study harder'."
   ]
  },
  {
   "cell_type": "code",
   "execution_count": 8,
   "metadata": {},
   "outputs": [
    {
     "name": "stdout",
     "output_type": "stream",
     "text": [
      "Input Exam Score: 300\n",
      "You cannot have an exam score higher than 100\n"
     ]
    }
   ],
   "source": [
    "exam_score = int(input(\"Input Exam Score: \"))\n",
    "\n",
    "if exam_score > 100:\n",
    "    print('You cannot have an exam score higher than 100')\n",
    "elif exam_score <= 100 and exam_score > 75:\n",
    "    print('You did great on your exam!')\n",
    "elif exam_score < 75:\n",
    "    print('You need to study harder')"
   ]
  },
  {
   "cell_type": "markdown",
   "metadata": {},
   "source": [
    "### Exercise 5\n",
    "Write a function to convert a test score to a grade where  \n",
    " - 90 - 100: A\n",
    " - 80 - 89:  B\n",
    " - 70 - 79:  C\n",
    " - 60 - 69:  D\n",
    " - < 60   :  F\n",
    " \n",
    "If a score is not between 0 and 100 then print out an error message. In the program, ask the user for a score and then call your function. "
   ]
  },
  {
   "cell_type": "code",
   "execution_count": 14,
   "metadata": {},
   "outputs": [
    {
     "name": "stdout",
     "output_type": "stream",
     "text": [
      "Input test score: 101\n"
     ]
    },
    {
     "data": {
      "text/plain": [
       "'Error'"
      ]
     },
     "execution_count": 14,
     "metadata": {},
     "output_type": "execute_result"
    }
   ],
   "source": [
    "def grade_maker(score):\n",
    "    if score > 100 or score < 0:\n",
    "        return \"Error\"\n",
    "    elif score < 60:\n",
    "        return \"F\"\n",
    "    elif score > 60 and score < 70:\n",
    "        return \"D\"\n",
    "    elif score > 70 and score < 80:\n",
    "        return \"C\"\n",
    "    elif score > 80 and score < 90:\n",
    "        return \"B\"\n",
    "    elif score == 100 and score > 90:\n",
    "        return \"A\"\n",
    "grade_maker(int(input(\"Input test score: \")))"
   ]
  },
  {
   "cell_type": "code",
   "execution_count": null,
   "metadata": {},
   "outputs": [],
   "source": []
  }
 ],
 "metadata": {
  "kernelspec": {
   "display_name": "Python 3 (ipykernel)",
   "language": "python",
   "name": "python3"
  },
  "language_info": {
   "codemirror_mode": {
    "name": "ipython",
    "version": 3
   },
   "file_extension": ".py",
   "mimetype": "text/x-python",
   "name": "python",
   "nbconvert_exporter": "python",
   "pygments_lexer": "ipython3",
   "version": "3.9.13"
  }
 },
 "nbformat": 4,
 "nbformat_minor": 4
}
