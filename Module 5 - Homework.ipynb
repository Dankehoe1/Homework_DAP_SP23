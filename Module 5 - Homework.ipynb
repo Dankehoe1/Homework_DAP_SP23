{
 "cells": [
  {
   "cell_type": "markdown",
   "metadata": {},
   "source": [
    "### Exercise 1. \n",
    "Create a dictionary named pairs with key value pairs of:\n",
    "    - 'hello' and 'fire', \n",
    "    - 3 and 'seven', \n",
    "    - 'strong' and 45. \n",
    "\n",
    "Then, print out the dictionary."
   ]
  },
  {
   "cell_type": "code",
   "execution_count": 4,
   "metadata": {},
   "outputs": [
    {
     "name": "stdout",
     "output_type": "stream",
     "text": [
      "{'hello': 'fire', 3: 'seven', 'strong': 45}\n"
     ]
    }
   ],
   "source": [
    "pairs = { \"hello\" : \"fire\", 3 : \"seven\", \"strong\" : 45}\n",
    "print(pairs)"
   ]
  },
  {
   "cell_type": "markdown",
   "metadata": {},
   "source": [
    "### Exercise 2. \n",
    "Add 'welcome' and 56 pair into <b><i>pairs</i></b> dictionary from exercise 1. Then, print out the dictionary. "
   ]
  },
  {
   "cell_type": "code",
   "execution_count": 7,
   "metadata": {},
   "outputs": [
    {
     "name": "stdout",
     "output_type": "stream",
     "text": [
      "{'hello': 'fire', 3: 'seven', 'strong': 45, 'wlecome': 56, 'welcome': 56}\n"
     ]
    }
   ],
   "source": [
    "pairs[\"welcome\"] = 56\n",
    "print(pairs)"
   ]
  },
  {
   "cell_type": "markdown",
   "metadata": {},
   "source": [
    "### Exercise 3. \n",
    "Delete one item from <b><i>pairs</i></b> dictionary. Then, print deleted item and the dictionary."
   ]
  },
  {
   "cell_type": "code",
   "execution_count": 12,
   "metadata": {},
   "outputs": [
    {
     "name": "stdout",
     "output_type": "stream",
     "text": [
      "{3: 'seven', 'strong': 45, 'wlecome': 56, 'welcome': 56}\n"
     ]
    }
   ],
   "source": [
    "pairs.pop(\"hello\")\n",
    "print(pairs)"
   ]
  },
  {
   "cell_type": "markdown",
   "metadata": {},
   "source": [
    "### Exercise 4. \n",
    "Print the value of an item where key is 3 in <b><i>pairs</i></b> dicitonary"
   ]
  },
  {
   "cell_type": "code",
   "execution_count": 13,
   "metadata": {},
   "outputs": [
    {
     "name": "stdout",
     "output_type": "stream",
     "text": [
      "seven\n"
     ]
    }
   ],
   "source": [
    "print(pairs[3])"
   ]
  },
  {
   "cell_type": "markdown",
   "metadata": {},
   "source": [
    "### Exercise 5. \n",
    "Try to find out if the key called 'hello' exist in <b><i>pairs</i></b> dictionary. Print 'key is found' message if the key exists otherwise print 'key is not there'."
   ]
  },
  {
   "cell_type": "code",
   "execution_count": 19,
   "metadata": {},
   "outputs": [
    {
     "name": "stdout",
     "output_type": "stream",
     "text": [
      "None\n",
      "key is not there.\n"
     ]
    }
   ],
   "source": [
    "answer = pairs.get('hello')\n",
    "print(answer)\n",
    "\n",
    "if answer != None:\n",
    "    print(\"key is found\")\n",
    "    \n",
    "if answer == None:\n",
    "    print(\"key is not there.\")"
   ]
  },
  {
   "cell_type": "markdown",
   "metadata": {},
   "source": [
    "### Exercise 6. \n",
    "\n",
    "For each item in a dictionary, create a for-loop that prints all the key-value pairs in the following format:\n",
    "\n",
    "        key -> value\n",
    "        \n",
    "To complete this exercise, first create your own dictionary of pet names. The key should be the type of pet (i.e. dog, lizard, etc) and the value should be the name of the specific pet. Your dictionary should have at least 5 items. "
   ]
  },
  {
   "cell_type": "code",
   "execution_count": 1,
   "metadata": {},
   "outputs": [
    {
     "name": "stdout",
     "output_type": "stream",
     "text": [
      "dog -> coop\n",
      "bird -> tweezer\n",
      "frog -> sam\n",
      "fish -> goof\n",
      "snail -> gloria\n"
     ]
    }
   ],
   "source": [
    "pet_names = {'dog': 'coop', 'bird': 'tweezer', 'frog': 'sam', 'fish': 'goof', 'snail': 'gloria'}\n",
    "\n",
    "for pet_key in pet_names:\n",
    "    print(f'{pet_key} -> {pet_names[pet_key]}')"
   ]
  },
  {
   "cell_type": "markdown",
   "metadata": {},
   "source": [
    "### Exercise 7. \n",
    "\n",
    "Convert the following lists into a single dictionary.\n",
    "\n",
    "keys = ['Ten', 'Twenty', 'Thirty']\n",
    "values = [10, 20, 30]"
   ]
  },
  {
   "cell_type": "code",
   "execution_count": 6,
   "metadata": {},
   "outputs": [
    {
     "name": "stdout",
     "output_type": "stream",
     "text": [
      "Original keys list: ['Ten', 'Twenty', 'Thirty']\n",
      "Original values list: [10, 20, 30]\n",
      "{'Ten': 10, 'Twenty': 20, 'Thirty': 30}\n"
     ]
    }
   ],
   "source": [
    "keys = ['Ten', 'Twenty', 'Thirty']\n",
    "values = [10, 20, 30]\n",
    "\n",
    "print(f\"Original keys list: {keys}\")\n",
    "print(f\"Original values list: {values}\")\n",
    "      \n",
    "new_dict = {}\n",
    "\n",
    "for key in keys:\n",
    "    for value in values:\n",
    "        new_dict[key] = value\n",
    "        values.remove(value)\n",
    "        break\n",
    "      \n",
    "print(new_dict)"
   ]
  },
  {
   "cell_type": "markdown",
   "metadata": {},
   "source": [
    "### Exercise 8. \n",
    "\n",
    "Convert the following list and dictionary into a single dictionary. The name of the patient should be the key and their health info should be the value. \n",
    "\n",
    "patient_name = [\"Lily\", \"Morgan\", \"Nicholas\"]\n",
    "\n",
    "patient_info = {\"5'6\" : \"178lbs\", \"5'9\" : \"134lbs\", \"6'1\" : \"218lbs\"}"
   ]
  },
  {
   "cell_type": "code",
   "execution_count": 13,
   "metadata": {},
   "outputs": [
    {
     "name": "stdout",
     "output_type": "stream",
     "text": [
      "{'Lily': {'Height': \"5'6\", 'Weight': '178lbs'}, 'Morgan': {'Height': \"5'9\", 'Weight': '134lbs'}, 'Nicholas': {'Height': \"6'1\", 'Weight': '218lbs'}}\n"
     ]
    }
   ],
   "source": [
    "pat_dict = {\n",
    "  \"Lily\" : {\n",
    "    \"Height\" : \"5'6\",\n",
    "    \"Weight\" : \"178lbs\"\n",
    "  },\n",
    "  \"Morgan\" : {\n",
    "    \"Height\" : \"5'9\",\n",
    "    \"Weight\" : \"134lbs\"\n",
    "  },\n",
    "  \"Nicholas\" : {\n",
    "    \"Height\" : \"6'1\",\n",
    "    \"Weight\" : \"218lbs\"\n",
    "  }\n",
    "}\n",
    "\n",
    "print(pat_dict)"
   ]
  },
  {
   "cell_type": "code",
   "execution_count": null,
   "metadata": {},
   "outputs": [],
   "source": []
  }
 ],
 "metadata": {
  "kernelspec": {
   "display_name": "Python 3 (ipykernel)",
   "language": "python",
   "name": "python3"
  },
  "language_info": {
   "codemirror_mode": {
    "name": "ipython",
    "version": 3
   },
   "file_extension": ".py",
   "mimetype": "text/x-python",
   "name": "python",
   "nbconvert_exporter": "python",
   "pygments_lexer": "ipython3",
   "version": "3.9.13"
  }
 },
 "nbformat": 4,
 "nbformat_minor": 4
}
