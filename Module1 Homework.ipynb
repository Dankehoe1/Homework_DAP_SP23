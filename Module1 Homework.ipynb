{
 "cells": [
  {
   "cell_type": "markdown",
   "metadata": {},
   "source": [
    "1. Print out your favorite color and write comment about what you are doing above the code."
   ]
  },
  {
   "cell_type": "code",
   "execution_count": 1,
   "metadata": {},
   "outputs": [
    {
     "name": "stdout",
     "output_type": "stream",
     "text": [
      "Green\n"
     ]
    }
   ],
   "source": [
    "# type print and in parentheses type out your favorite color\n",
    "print(\"Green\")"
   ]
  },
  {
   "cell_type": "markdown",
   "metadata": {},
   "source": [
    "2. Print the sumation of numbers 1 through 10"
   ]
  },
  {
   "cell_type": "code",
   "execution_count": 3,
   "metadata": {},
   "outputs": [
    {
     "name": "stdout",
     "output_type": "stream",
     "text": [
      "55\n"
     ]
    }
   ],
   "source": [
    "print(1+2+3+4+5+6+7+8+9+10)"
   ]
  },
  {
   "cell_type": "markdown",
   "metadata": {},
   "source": [
    "3. Print what 2 to the 8th power is."
   ]
  },
  {
   "cell_type": "code",
   "execution_count": 4,
   "metadata": {},
   "outputs": [
    {
     "name": "stdout",
     "output_type": "stream",
     "text": [
      "256\n"
     ]
    }
   ],
   "source": [
    "print (2**8)"
   ]
  },
  {
   "cell_type": "markdown",
   "metadata": {},
   "source": [
    "4. Print the remainder of 100 divided by 11. "
   ]
  },
  {
   "cell_type": "code",
   "execution_count": 5,
   "metadata": {},
   "outputs": [
    {
     "name": "stdout",
     "output_type": "stream",
     "text": [
      "1\n"
     ]
    }
   ],
   "source": [
    "print(100%11)"
   ]
  },
  {
   "cell_type": "markdown",
   "metadata": {},
   "source": [
    "5. What is the result of adding strings: 20, 8, 77?"
   ]
  },
  {
   "cell_type": "code",
   "execution_count": 6,
   "metadata": {},
   "outputs": [
    {
     "name": "stdout",
     "output_type": "stream",
     "text": [
      "20877\n"
     ]
    }
   ],
   "source": [
    "print(\"20\" + \"8\" + \"77\")"
   ]
  },
  {
   "cell_type": "markdown",
   "metadata": {},
   "source": [
    "6. Print out 100 divided by 5"
   ]
  },
  {
   "cell_type": "code",
   "execution_count": 7,
   "metadata": {},
   "outputs": [
    {
     "name": "stdout",
     "output_type": "stream",
     "text": [
      "20.0\n"
     ]
    }
   ],
   "source": [
    "print(100/5)"
   ]
  },
  {
   "cell_type": "markdown",
   "metadata": {},
   "source": [
    "7. What is the difference (subtraction) between 10/4 and 10//4?  Print out the result"
   ]
  },
  {
   "cell_type": "code",
   "execution_count": 9,
   "metadata": {},
   "outputs": [
    {
     "name": "stdout",
     "output_type": "stream",
     "text": [
      "0.5\n"
     ]
    }
   ],
   "source": [
    "print((10/4)- (10//4))\n"
   ]
  },
  {
   "cell_type": "markdown",
   "metadata": {},
   "source": [
    "8. Create a variable called height and store your height value there.\n",
    "Print a sentence describing your height and use the variable in the sentence as well."
   ]
  },
  {
   "cell_type": "code",
   "execution_count": 25,
   "metadata": {},
   "outputs": [
    {
     "name": "stdout",
     "output_type": "stream",
     "text": [
      "Daniel Kehoe coming in at, 5ft11in\n"
     ]
    }
   ],
   "source": [
    "height = \"5ft11in\"\n",
    "print(\"Daniel Kehoe coming in at, \" + height)"
   ]
  },
  {
   "cell_type": "markdown",
   "metadata": {},
   "source": [
    "9. Print the same information as exercise 8 using a formatted string. "
   ]
  },
  {
   "cell_type": "code",
   "execution_count": 22,
   "metadata": {},
   "outputs": [
    {
     "name": "stdout",
     "output_type": "stream",
     "text": [
      "Coming in at 5ft11in Daniel Kehoe\n"
     ]
    }
   ],
   "source": [
    "print(f\"Coming in at {height} Daniel Kehoe\")\n"
   ]
  },
  {
   "cell_type": "markdown",
   "metadata": {},
   "source": [
    "10. Use two different (single and double) quotes in a string to print out a sentence"
   ]
  },
  {
   "cell_type": "code",
   "execution_count": 27,
   "metadata": {},
   "outputs": [
    {
     "name": "stdout",
     "output_type": "stream",
     "text": [
      "then he said 'I do get down with the sickness' the children rejoiced\n"
     ]
    }
   ],
   "source": [
    "print(\"then he said 'I do get down with the sickness' the children rejoiced\")"
   ]
  },
  {
   "cell_type": "markdown",
   "metadata": {},
   "source": [
    "11. Print out Hello World! 7 times each on a new line using only one line of code."
   ]
  },
  {
   "cell_type": "code",
   "execution_count": 37,
   "metadata": {},
   "outputs": [
    {
     "name": "stdout",
     "output_type": "stream",
     "text": [
      "\n",
      "Hello World\n",
      "Hello World\n",
      "Hello World\n",
      "Hello World\n",
      "Hello World\n",
      "Hello World\n",
      "Hello World\n"
     ]
    }
   ],
   "source": [
    "print(\"\\nHello World\" *7)"
   ]
  },
  {
   "cell_type": "markdown",
   "metadata": {},
   "source": [
    "12. Write a code to get two integers from a user. Then print out their summation, subtraction, multiplication, and division."
   ]
  },
  {
   "cell_type": "code",
   "execution_count": 44,
   "metadata": {},
   "outputs": [
    {
     "name": "stdout",
     "output_type": "stream",
     "text": [
      "Enter number here:\n",
      ">>>>6\n",
      "Enter number here:\n",
      ">>>>2\n",
      "6 + 2 = 8\n",
      "6 - 2 = 4\n",
      "6 * 2 = 12\n",
      "6 / 2 = 3.0\n"
     ]
    }
   ],
   "source": [
    "prompt = \">>>>\"\n",
    "\n",
    "print(\"Enter number here:\")\n",
    "numb1 = int(input(prompt))\n",
    "\n",
    "print (\"Enter number here:\")\n",
    "numb2 = int(input (prompt))\n",
    "\n",
    "sum_total = numb1 + numb2 \n",
    "print(f\"{numb1} + {numb2} = {sum_total}\")\n",
    "sub_total = numb1 - numb2\n",
    "print(f\"{numb1} - {numb2} = {sub_total}\")\n",
    "mult_total = numb1 * numb2\n",
    "print(f\"{numb1} * {numb2} = {mult_total}\")\n",
    "div_total = numb1 / numb2 \n",
    "print(f\"{numb1} / {numb2} = {div_total}\")"
   ]
  },
  {
   "cell_type": "markdown",
   "metadata": {},
   "source": [
    "13. You and your collegue have been tasked to write a code to get 5 numbers from a user and then print out their summation and average in a formatted string.  Your partner wrote codes below.  Now it is up to you to fix all errors."
   ]
  },
  {
   "cell_type": "code",
   "execution_count": 55,
   "metadata": {},
   "outputs": [
    {
     "name": "stdout",
     "output_type": "stream",
     "text": [
      "Enter a number: 56\n",
      "Enter a number: 2\n",
      "Enter a number: 13\n",
      "Enter a number: 5\n",
      "Enter a number: 7\n",
      "56 + 2 + 13 + 5 + 7 = 83\n",
      "average is 16.6\n"
     ]
    }
   ],
   "source": [
    "prompt = f\"Enter a number: \"\n",
    "\n",
    "numb1 = int(input(\"Enter a number: \"))\n",
    "numb2 = int(input(\"Enter a number: \"))\n",
    "numb3 = int(input(\"Enter a number: \"))\n",
    "numb4 = int(input(\"Enter a number: \"))\n",
    "numb5 = int(input(\"Enter a number: \"))\n",
    "\n",
    "total = int(numb1 + numb2 + numb3 + numb4 + numb5)\n",
    "avg = int(total) / 5\n",
    "\n",
    "print(f\"{numb1} + {numb2} + {numb3} + {numb4} + {numb5} = {total}\")\n",
    "print(f\"average is {avg}\")"
   ]
  },
  {
   "cell_type": "code",
   "execution_count": null,
   "metadata": {},
   "outputs": [],
   "source": []
  },
  {
   "cell_type": "markdown",
   "metadata": {},
   "source": [
    "14. You and your partner have been assigned to a project to write a program to calculate the amount of runoff rain on a roof from any given rainfall.  \n",
    "\n",
    "You and your partner have figured out that to calculate the runoff from any given rainfall. \n",
    "\n",
    "You need to take the dimensions of the footprint of the roof and <b>convert them to inches</b> (ex - a 50' x 20' roof is 600\" x 240\"). The dimensions should be user submitted. \n",
    "\n",
    "Then, multiply the roof dimensions by the number of inches of rainfall. As an example, 600\" x 240\" x 1\" = 144,000 cubic inches of water for an inch of rainfall. Finally, divide that result by 231 to get the number of gallons (because 1 gallon = 231 cubic inches; 144,000/231 = 623.38).\n",
    "\n",
    "Your partner started coding before getting sick and it is up to you to finish the program."
   ]
  },
  {
   "cell_type": "code",
   "execution_count": 57,
   "metadata": {},
   "outputs": [
    {
     "name": "stdout",
     "output_type": "stream",
     "text": [
      "\n",
      "Rainfall Calculation ***\n",
      "\n",
      "What's roof's width in foot? 3\n",
      "What's roof's length in foot? 4\n",
      "How much did it rain? 12\n",
      "the total amount of rain was  89.77 gallons\n"
     ]
    }
   ],
   "source": [
    "print(\"\\nRainfall Calculation ***\\n\")\n",
    "\n",
    "width = float(input(\"What's roof's width in foot? \"))\n",
    "length = float(input(\"What's roof's length in foot? \"))\n",
    "rain = float(input(\"How much did it rain? \"))\n",
    "\n",
    "total_rain = (width * 12) * (length * 12) * rain\n",
    "gallons = total_rain / 231\n",
    "\n",
    "print(f\"the total amount of rain was {gallons: .2f} gallons\")\n",
    "\n",
    "\n"
   ]
  },
  {
   "cell_type": "code",
   "execution_count": null,
   "metadata": {},
   "outputs": [],
   "source": []
  },
  {
   "cell_type": "markdown",
   "metadata": {},
   "source": [
    "15. A program is required to get a customer’s name, a purchase amount and a discount rate (in %). The program must compute the discount amount, sales tax (6%) and the total amount due. Using one print statement, print the customer’s name, purchase amount, discount amount, sales tax and total amount due in friendly format."
   ]
  },
  {
   "cell_type": "code",
   "execution_count": 1,
   "metadata": {},
   "outputs": [
    {
     "name": "stdout",
     "output_type": "stream",
     "text": [
      "input name:Daniel\n",
      "enter purchase amount:30\n",
      "what is your discount.20\n",
      "\n",
      "Amount:\t\t$30.00\n",
      "Discount:\t$6.00\n",
      "------------------------------\n",
      "Subtotal:\t$24.00\n",
      "Sales Tax:\t$1.44\n",
      "==============================\n",
      "Total:\t\t$25.44\n"
     ]
    }
   ],
   "source": [
    "name = input(\"input name:\")\n",
    "amount = float(input(\"enter purchase amount:\"))\n",
    "discount = float(input(\"what is your discount\"))\n",
    "tax = .06\n",
    "\n",
    "discount_amount = amount * discount \n",
    "subtotal = amount - discount_amount\n",
    "sales_tax = subtotal * tax\n",
    "total = subtotal + sales_tax\n",
    "\n",
    "print(f\"\\nAmount:\\t\\t${amount:.2f}\")\n",
    "print(f\"Discount:\\t${discount_amount:.2f}\")\n",
    "print(\"-\" * 30)\n",
    "print(f\"Subtotal:\\t${subtotal:.2f}\")\n",
    "print(f\"Sales Tax:\\t${sales_tax:.2f}\")\n",
    "print(\"=\" * 30)\n",
    "print(f\"Total:\\t\\t${total:.2f}\")"
   ]
  },
  {
   "cell_type": "code",
   "execution_count": null,
   "metadata": {},
   "outputs": [],
   "source": []
  },
  {
   "cell_type": "code",
   "execution_count": null,
   "metadata": {},
   "outputs": [],
   "source": []
  }
 ],
 "metadata": {
  "kernelspec": {
   "display_name": "Python 3 (ipykernel)",
   "language": "python",
   "name": "python3"
  },
  "language_info": {
   "codemirror_mode": {
    "name": "ipython",
    "version": 3
   },
   "file_extension": ".py",
   "mimetype": "text/x-python",
   "name": "python",
   "nbconvert_exporter": "python",
   "pygments_lexer": "ipython3",
   "version": "3.9.13"
  }
 },
 "nbformat": 4,
 "nbformat_minor": 4
}
